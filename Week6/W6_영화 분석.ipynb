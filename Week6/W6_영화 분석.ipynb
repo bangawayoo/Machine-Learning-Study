{
 "cells": [
  {
   "cell_type": "code",
   "execution_count": 4,
   "metadata": {},
   "outputs": [],
   "source": [
    "import pandas as pd \n",
    "from glob import glob\n",
    "import os"
   ]
  },
  {
   "cell_type": "markdown",
   "metadata": {},
   "source": [
    "# Loading Data "
   ]
  },
  {
   "cell_type": "code",
   "execution_count": 95,
   "metadata": {},
   "outputs": [
    {
     "data": {
      "text/plain": [
       "['C:\\\\Users\\\\Ki_Yoon_Yoo\\\\Desktop\\\\ToBigs\\\\6주차\\\\크롤링\\\\과제/detailed\\\\2016_detailed.csv',\n",
       " 'C:\\\\Users\\\\Ki_Yoon_Yoo\\\\Desktop\\\\ToBigs\\\\6주차\\\\크롤링\\\\과제/detailed\\\\2017_detailed.csv',\n",
       " 'C:\\\\Users\\\\Ki_Yoon_Yoo\\\\Desktop\\\\ToBigs\\\\6주차\\\\크롤링\\\\과제/detailed\\\\2018_detailed.csv']"
      ]
     },
     "execution_count": 95,
     "metadata": {},
     "output_type": "execute_result"
    }
   ],
   "source": [
    "dir_ = os.getcwd()\n",
    "#csv 확장자명을 가진 파일 모두 선택 \n",
    "file_list = glob(dir_+'/detailed/*.csv')\n",
    "file_list"
   ]
  },
  {
   "cell_type": "code",
   "execution_count": 123,
   "metadata": {},
   "outputs": [],
   "source": [
    "file_list = [2016,2017,2018]\n",
    "df = pd.DataFrame()\n",
    "for i in file_list:\n",
    "    temp_df = pd.read_csv('detailed/'+str(i)+'_detailed.csv',encoding='utf8')\n",
    "    df= df.append(temp_df)"
   ]
  },
  {
   "cell_type": "code",
   "execution_count": 124,
   "metadata": {},
   "outputs": [
    {
     "data": {
      "text/html": [
       "<div>\n",
       "<style scoped>\n",
       "    .dataframe tbody tr th:only-of-type {\n",
       "        vertical-align: middle;\n",
       "    }\n",
       "\n",
       "    .dataframe tbody tr th {\n",
       "        vertical-align: top;\n",
       "    }\n",
       "\n",
       "    .dataframe thead th {\n",
       "        text-align: right;\n",
       "    }\n",
       "</style>\n",
       "<table border=\"1\" class=\"dataframe\">\n",
       "  <thead>\n",
       "    <tr style=\"text-align: right;\">\n",
       "      <th></th>\n",
       "      <th>title</th>\n",
       "      <th>netizen_grade</th>\n",
       "      <th>critic_grade</th>\n",
       "      <th>open_date</th>\n",
       "      <th>url</th>\n",
       "      <th>genere</th>\n",
       "      <th>audience_num</th>\n",
       "      <th>running_time</th>\n",
       "      <th>rated</th>\n",
       "      <th>director</th>\n",
       "    </tr>\n",
       "  </thead>\n",
       "  <tbody>\n",
       "    <tr>\n",
       "      <th>0</th>\n",
       "      <td>부산행</td>\n",
       "      <td>7.3</td>\n",
       "      <td>7.1</td>\n",
       "      <td>16.07.20</td>\n",
       "      <td>/moviedb/main?movieId=87215</td>\n",
       "      <td>액션/스릴러</td>\n",
       "      <td>11,566,874</td>\n",
       "      <td>118.0</td>\n",
       "      <td>15세이상관람가</td>\n",
       "      <td>연상호</td>\n",
       "    </tr>\n",
       "    <tr>\n",
       "      <th>1</th>\n",
       "      <td>검사외전</td>\n",
       "      <td>6.4</td>\n",
       "      <td>5.5</td>\n",
       "      <td>16.02.03</td>\n",
       "      <td>/moviedb/main?movieId=90378</td>\n",
       "      <td>범죄/코미디</td>\n",
       "      <td>9,707,581</td>\n",
       "      <td>126.0</td>\n",
       "      <td>15세이상관람가</td>\n",
       "      <td>이일형</td>\n",
       "    </tr>\n",
       "    <tr>\n",
       "      <th>2</th>\n",
       "      <td>캡틴 아메리카: 시빌 워</td>\n",
       "      <td>8.1</td>\n",
       "      <td>7.4</td>\n",
       "      <td>16.04.27</td>\n",
       "      <td>/moviedb/main?movieId=89869</td>\n",
       "      <td>액션/SF/스릴러</td>\n",
       "      <td>8,678,117</td>\n",
       "      <td>147.0</td>\n",
       "      <td>12세이상관람가</td>\n",
       "      <td>안소니 루소</td>\n",
       "    </tr>\n",
       "    <tr>\n",
       "      <th>3</th>\n",
       "      <td>밀정</td>\n",
       "      <td>7.7</td>\n",
       "      <td>7.4</td>\n",
       "      <td>16.09.07</td>\n",
       "      <td>/moviedb/main?movieId=95915</td>\n",
       "      <td>액션/시대극/스릴러</td>\n",
       "      <td>7,500,457</td>\n",
       "      <td>140.0</td>\n",
       "      <td>15세이상관람가</td>\n",
       "      <td>김지운</td>\n",
       "    </tr>\n",
       "    <tr>\n",
       "      <th>4</th>\n",
       "      <td>터널</td>\n",
       "      <td>7.2</td>\n",
       "      <td>6.8</td>\n",
       "      <td>16.08.10</td>\n",
       "      <td>/moviedb/main?movieId=94333</td>\n",
       "      <td>드라마</td>\n",
       "      <td>7,120,780</td>\n",
       "      <td>126.0</td>\n",
       "      <td>12세이상관람가</td>\n",
       "      <td>김성훈</td>\n",
       "    </tr>\n",
       "  </tbody>\n",
       "</table>\n",
       "</div>"
      ],
      "text/plain": [
       "           title  netizen_grade  critic_grade open_date  \\\n",
       "0            부산행            7.3           7.1  16.07.20   \n",
       "1           검사외전            6.4           5.5  16.02.03   \n",
       "2  캡틴 아메리카: 시빌 워            8.1           7.4  16.04.27   \n",
       "3             밀정            7.7           7.4  16.09.07   \n",
       "4             터널            7.2           6.8  16.08.10   \n",
       "\n",
       "                           url      genere audience_num  running_time  \\\n",
       "0  /moviedb/main?movieId=87215      액션/스릴러   11,566,874         118.0   \n",
       "1  /moviedb/main?movieId=90378      범죄/코미디    9,707,581         126.0   \n",
       "2  /moviedb/main?movieId=89869   액션/SF/스릴러    8,678,117         147.0   \n",
       "3  /moviedb/main?movieId=95915  액션/시대극/스릴러    7,500,457         140.0   \n",
       "4  /moviedb/main?movieId=94333         드라마    7,120,780         126.0   \n",
       "\n",
       "      rated director  \n",
       "0  15세이상관람가     연상호   \n",
       "1  15세이상관람가     이일형   \n",
       "2  12세이상관람가   안소니 루소  \n",
       "3  15세이상관람가     김지운   \n",
       "4  12세이상관람가     김성훈   "
      ]
     },
     "execution_count": 124,
     "metadata": {},
     "output_type": "execute_result"
    }
   ],
   "source": [
    "df.head()"
   ]
  },
  {
   "cell_type": "markdown",
   "metadata": {},
   "source": [
    "### 날짜 변수 생성 & Null 값 제거 "
   ]
  },
  {
   "cell_type": "code",
   "execution_count": 125,
   "metadata": {},
   "outputs": [],
   "source": [
    "def cleanse(df,label):\n",
    "    #label 에 null 값이 존재한다면 bad_idx 에 index 저장 \n",
    "    bad_idx = df.loc[df.isnull()[label]==True].index.tolist()\n",
    "    df = df.drop(bad_idx)\n",
    "    \n",
    "    #날짜 변수 생성 \n",
    "    df['open_date']=df['open_date'].apply(lambda x: ''.join(('20',str(x))))\n",
    "    df['open_date'] = pd.to_datetime(df['open_date'],errors = 'ignore')\n",
    "    df.loc[df['open_date']<'2017','year'] = '2016'\n",
    "    df.loc[(df['open_date']> '2017') & (df['open_date']< '2018'),'year'] = '2017'\n",
    "    df.loc[df['open_date']> '2018','year'] = '2018'\n",
    "    return df "
   ]
  },
  {
   "cell_type": "code",
   "execution_count": 129,
   "metadata": {},
   "outputs": [
    {
     "data": {
      "text/plain": [
       "title            False\n",
       "netizen_grade    False\n",
       "critic_grade      True\n",
       "open_date        False\n",
       "url              False\n",
       "genere           False\n",
       "audience_num     False\n",
       "running_time     False\n",
       "rated            False\n",
       "director         False\n",
       "year             False\n",
       "dtype: bool"
      ]
     },
     "execution_count": 129,
     "metadata": {},
     "output_type": "execute_result"
    }
   ],
   "source": [
    "df.isnull().any()"
   ]
  },
  {
   "cell_type": "code",
   "execution_count": 126,
   "metadata": {},
   "outputs": [],
   "source": [
    "df = cleanse(df,'netizen_grade')"
   ]
  },
  {
   "cell_type": "markdown",
   "metadata": {},
   "source": [
    "### 영화 제목은 150개 모두 존재하지만 다른 항목들에서 Null 값이 존재합니다.\n",
    "### 다음 영화 사이트 자체적으로 문제도 있지만 크롤링 과정에서 문제도 발생한 것으로 예상됩니다. 분석의 편의를 위해 네티즌평점에  Null 값이 존재하는 영화들을 모두 제거합니다.\n",
    "\n",
    "### cleanse() 가 완료된 데이터는 평론가 평점 외에는 Null 값이 존재하지 않는 147개의 영화데이터셋입니다. 다음 영화에서 조회한 결과 본 영화들은 평론가 평점이 존재하지 않는 영화입니다. \n",
    "\n",
    "### 아울러, cleanse 함수를 통해 'year' 이라는 날짜 변수가 생성되었습니다."
   ]
  },
  {
   "cell_type": "code",
   "execution_count": 128,
   "metadata": {},
   "outputs": [
    {
     "data": {
      "text/plain": [
       "147"
      ]
     },
     "execution_count": 128,
     "metadata": {},
     "output_type": "execute_result"
    }
   ],
   "source": [
    "len(df)"
   ]
  },
  {
   "cell_type": "code",
   "execution_count": 127,
   "metadata": {},
   "outputs": [
    {
     "data": {
      "text/plain": [
       "title            False\n",
       "netizen_grade    False\n",
       "critic_grade      True\n",
       "open_date        False\n",
       "url              False\n",
       "genere           False\n",
       "audience_num     False\n",
       "running_time     False\n",
       "rated            False\n",
       "director         False\n",
       "year             False\n",
       "dtype: bool"
      ]
     },
     "execution_count": 127,
     "metadata": {},
     "output_type": "execute_result"
    }
   ],
   "source": [
    "df.isnull().any()"
   ]
  },
  {
   "cell_type": "markdown",
   "metadata": {},
   "source": [
    "# 년도 별 분석"
   ]
  },
  {
   "cell_type": "code",
   "execution_count": 131,
   "metadata": {},
   "outputs": [],
   "source": [
    "import matplotlib\n",
    "import matplotlib.pyplot as plt\n",
    "import seaborn as sns\n",
    "import numpy as np\n",
    "#for using Korean font\n",
    "matplotlib.rc('font', family='NanumBarunGothic')\n",
    "plt.rcParams['axes.unicode_minus'] = False"
   ]
  },
  {
   "cell_type": "code",
   "execution_count": 172,
   "metadata": {},
   "outputs": [],
   "source": [
    "from statsmodels.stats.multicomp import pairwise_tukeyhsd\n",
    "from statsmodels.stats.multicomp import MultiComparison\n",
    "\n",
    "def multi_comparison(response, group = 'year',data=df):\n",
    "    sns.boxplot(x=group, y=response,data=data)\n",
    "    sns.swarmplot(x=group, y=response,data=data,color='0.25')\n",
    "    mc = MultiComparison(data[response], data[group])\n",
    "    result = mc.tukeyhsd()\n",
    "    print(result)\n",
    "\n"
   ]
  },
  {
   "cell_type": "markdown",
   "metadata": {},
   "source": [
    "### alpha = 0.05 에서 3개 년도의 네티즌 평점은 유의미한 차이를 보이지 않는다."
   ]
  },
  {
   "cell_type": "code",
   "execution_count": 173,
   "metadata": {},
   "outputs": [
    {
     "name": "stdout",
     "output_type": "stream",
     "text": [
      "Multiple Comparison of Means - Tukey HSD,FWER=0.05\n",
      "============================================\n",
      "group1 group2 meandiff  lower  upper  reject\n",
      "--------------------------------------------\n",
      " 2016   2017   0.138   -0.3011 0.5771 False \n",
      " 2016   2018  -0.0917  -0.5377 0.3543 False \n",
      " 2017   2018  -0.2297  -0.6757 0.2163 False \n",
      "--------------------------------------------\n"
     ]
    },
    {
     "data": {
      "image/png": "[encoded data removed]",
      "text/plain": [
       "<Figure size 432x288 with 1 Axes>"
      ]
     },
     "metadata": {
      "needs_background": "light"
     },
     "output_type": "display_data"
    }
   ],
   "source": [
    "multi_comparison('netizen_grade')"
   ]
  },
  {
   "cell_type": "markdown",
   "metadata": {},
   "source": [
    "### 평론가 평점 역시 유의미한 차이를 보이지 않는다. "
   ]
  },
  {
   "cell_type": "code",
   "execution_count": 174,
   "metadata": {},
   "outputs": [
    {
     "name": "stdout",
     "output_type": "stream",
     "text": [
      "Multiple Comparison of Means - Tukey HSD,FWER=0.05\n",
      "=========================================\n",
      "group1 group2 meandiff lower upper reject\n",
      "-----------------------------------------\n",
      " 2016   2017    nan     nan   nan  False \n",
      " 2016   2018    nan     nan   nan  False \n",
      " 2017   2018  -0.1917   nan   nan  False \n",
      "-----------------------------------------\n"
     ]
    },
    {
     "data": {
      "image/png": "[encoded data removed]",
      "text/plain": [
       "<Figure size 432x288 with 1 Axes>"
      ]
     },
     "metadata": {
      "needs_background": "light"
     },
     "output_type": "display_data"
    }
   ],
   "source": [
    "multi_comparison('critic_grade')"
   ]
  },
  {
   "cell_type": "markdown",
   "metadata": {},
   "source": [
    "### 흥미롭게도 박스오피스 50위권 영화에 대한 네티즌 평점, 평론가 평점, 그리고 네트즌과 평론가의 의견차이가 해마다 동일한 평균을 갖는다는 결론이 나왔다."
   ]
  },
  {
   "cell_type": "code",
   "execution_count": 175,
   "metadata": {},
   "outputs": [
    {
     "name": "stdout",
     "output_type": "stream",
     "text": [
      "Multiple Comparison of Means - Tukey HSD,FWER=0.05\n",
      "=========================================\n",
      "group1 group2 meandiff lower upper reject\n",
      "-----------------------------------------\n",
      " 2016   2017    nan     nan   nan  False \n",
      " 2016   2018    nan     nan   nan  False \n",
      " 2017   2018   0.038    nan   nan  False \n",
      "-----------------------------------------\n"
     ]
    },
    {
     "data": {
      "image/png": "[encoded data removed]",
      "text/plain": [
       "<Figure size 432x288 with 1 Axes>"
      ]
     },
     "metadata": {
      "needs_background": "light"
     },
     "output_type": "display_data"
    }
   ],
   "source": [
    "multi_comparison('discrepency')"
   ]
  },
  {
   "cell_type": "code",
   "execution_count": 166,
   "metadata": {},
   "outputs": [],
   "source": [
    "df['audience_num'] = df['audience_num'].apply(lambda x: int(x.replace(',','')))"
   ]
  },
  {
   "cell_type": "code",
   "execution_count": 176,
   "metadata": {},
   "outputs": [
    {
     "name": "stdout",
     "output_type": "stream",
     "text": [
      "     Multiple Comparison of Means - Tukey HSD,FWER=0.05    \n",
      "===========================================================\n",
      "group1 group2   meandiff      lower        upper     reject\n",
      "-----------------------------------------------------------\n",
      " 2016   2017   263329.38  -1045902.2457 1572561.0057 False \n",
      " 2016   2018  -228403.314 -1558362.8504 1101556.2223 False \n",
      " 2017   2018  -491732.694 -1821692.2304 838226.8423  False \n",
      "-----------------------------------------------------------\n"
     ]
    },
    {
     "data": {
      "image/png": "[encoded data removed]",
      "text/plain": [
       "<Figure size 432x288 with 1 Axes>"
      ]
     },
     "metadata": {
      "needs_background": "light"
     },
     "output_type": "display_data"
    }
   ],
   "source": [
    "multi_comparison('audience_num')"
   ]
  },
  {
   "cell_type": "code",
   "execution_count": 178,
   "metadata": {
    "scrolled": true
   },
   "outputs": [
    {
     "name": "stdout",
     "output_type": "stream",
     "text": [
      "Multiple Comparison of Means - Tukey HSD,FWER=0.05\n",
      "============================================\n",
      "group1 group2 meandiff  lower  upper  reject\n",
      "--------------------------------------------\n",
      " 2016   2017   -1.28   -8.5827 6.0227 False \n",
      " 2016   2018  -3.2617   -10.68 4.1566 False \n",
      " 2017   2018  -1.9817    -9.4  5.4366 False \n",
      "--------------------------------------------\n"
     ]
    },
    {
     "data": {
      "image/png": "[encoded data removed]",
      "text/plain": [
       "<Figure size 432x288 with 1 Axes>"
      ]
     },
     "metadata": {
      "needs_background": "light"
     },
     "output_type": "display_data"
    }
   ],
   "source": [
    "multi_comparison('running_time')"
   ]
  },
  {
   "cell_type": "markdown",
   "metadata": {},
   "source": [
    "# Audience_num 분석 :\n",
    "## 흥행 성공의 지표인 누적 관객수가 어떤 변수에 의해서 결정되는지 살펴봅니다."
   ]
  },
  {
   "cell_type": "code",
   "execution_count": 180,
   "metadata": {},
   "outputs": [
    {
     "data": {
      "text/plain": [
       "audience_num     1.000000\n",
       "running_time     0.371934\n",
       "critic_grade     0.158816\n",
       "netizen_grade    0.148598\n",
       "discrepency      0.021055\n",
       "Name: audience_num, dtype: float64"
      ]
     },
     "execution_count": 180,
     "metadata": {},
     "output_type": "execute_result"
    }
   ],
   "source": [
    "corr_mtx = df.corr()\n",
    "corr_mtx['audience_num'].sort_values(ascending = False)"
   ]
  },
  {
   "cell_type": "code",
   "execution_count": 194,
   "metadata": {},
   "outputs": [],
   "source": [
    "col_list= df.select_dtypes(exclude='object').columns.tolist()\n",
    "col_list.remove('audience_num')\n",
    "col_list.remove('open_date')"
   ]
  },
  {
   "cell_type": "code",
   "execution_count": 199,
   "metadata": {},
   "outputs": [],
   "source": [
    "X = df[col_list]\n",
    "y = df['audience_num']"
   ]
  },
  {
   "cell_type": "code",
   "execution_count": 201,
   "metadata": {
    "scrolled": true
   },
   "outputs": [
    {
     "data": {
      "text/plain": [
       "netizen_grade    False\n",
       "critic_grade      True\n",
       "running_time     False\n",
       "discrepency       True\n",
       "dtype: bool"
      ]
     },
     "execution_count": 201,
     "metadata": {},
     "output_type": "execute_result"
    }
   ],
   "source": [
    "import numpy as np\n",
    "np.isnan(X).any()"
   ]
  },
  {
   "cell_type": "code",
   "execution_count": 206,
   "metadata": {
    "scrolled": true
   },
   "outputs": [
    {
     "data": {
      "text/plain": [
       "False"
      ]
     },
     "execution_count": 206,
     "metadata": {},
     "output_type": "execute_result"
    }
   ],
   "source": [
    "np.isnan(y).any()\n",
    "#y 는 모두 존재 "
   ]
  },
  {
   "cell_type": "markdown",
   "metadata": {},
   "source": [
    "### 앞서 전처리 단계에서 netizen_grade 에서 Null 값을 가지는 데이터를 지웠지만 critic_grade - 따라서 discrepency 가 없는 데이터도 존재합니다. 이를 median 값으로 채웁시다. "
   ]
  },
  {
   "cell_type": "code",
   "execution_count": 205,
   "metadata": {},
   "outputs": [
    {
     "data": {
      "text/plain": [
       "(array([33, 33, 47, 47], dtype=int64), array([1, 3, 1, 3], dtype=int64))"
      ]
     },
     "execution_count": 205,
     "metadata": {},
     "output_type": "execute_result"
    }
   ],
   "source": [
    "bad_idx = np.where(np.isnan(X))\n",
    "bad_idx"
   ]
  },
  {
   "cell_type": "code",
   "execution_count": 208,
   "metadata": {},
   "outputs": [],
   "source": [
    "X = X.fillna(X.median())"
   ]
  },
  {
   "cell_type": "code",
   "execution_count": 224,
   "metadata": {},
   "outputs": [
    {
     "data": {
      "text/plain": [
       "DecisionTreeRegressor(criterion='mse', max_depth=3, max_features=None,\n",
       "           max_leaf_nodes=None, min_impurity_decrease=0.0,\n",
       "           min_impurity_split=None, min_samples_leaf=1,\n",
       "           min_samples_split=2, min_weight_fraction_leaf=0.0,\n",
       "           presort=False, random_state=None, splitter='best')"
      ]
     },
     "execution_count": 224,
     "metadata": {},
     "output_type": "execute_result"
    }
   ],
   "source": [
    "import numpy as np\n",
    "from sklearn.tree import DecisionTreeRegressor as DT\n",
    "\n",
    "reg = DT(max_depth =3)\n",
    "reg.fit(X,y)\n"
   ]
  },
  {
   "cell_type": "code",
   "execution_count": 223,
   "metadata": {
    "scrolled": true
   },
   "outputs": [
    {
     "data": {
      "text/html": [
       "<div>\n",
       "<style scoped>\n",
       "    .dataframe tbody tr th:only-of-type {\n",
       "        vertical-align: middle;\n",
       "    }\n",
       "\n",
       "    .dataframe tbody tr th {\n",
       "        vertical-align: top;\n",
       "    }\n",
       "\n",
       "    .dataframe thead th {\n",
       "        text-align: right;\n",
       "    }\n",
       "</style>\n",
       "<table border=\"1\" class=\"dataframe\">\n",
       "  <thead>\n",
       "    <tr style=\"text-align: right;\">\n",
       "      <th></th>\n",
       "      <th>netizen_grade</th>\n",
       "      <th>critic_grade</th>\n",
       "      <th>running_time</th>\n",
       "      <th>discrepency</th>\n",
       "    </tr>\n",
       "  </thead>\n",
       "  <tbody>\n",
       "    <tr>\n",
       "      <th>0</th>\n",
       "      <td>0.0</td>\n",
       "      <td>0.401866</td>\n",
       "      <td>0.598134</td>\n",
       "      <td>0.0</td>\n",
       "    </tr>\n",
       "  </tbody>\n",
       "</table>\n",
       "</div>"
      ],
      "text/plain": [
       "   netizen_grade  critic_grade  running_time  discrepency\n",
       "0            0.0      0.401866      0.598134          0.0"
      ]
     },
     "execution_count": 223,
     "metadata": {},
     "output_type": "execute_result"
    }
   ],
   "source": [
    "pd.DataFrame(data=reg.feature_importances_.reshape(-1,4),columns=X.columns)"
   ]
  },
  {
   "cell_type": "markdown",
   "metadata": {},
   "source": [
    "### 예상외의 결과입니다. DT의 feature importance 에 의하면 running_time 이 누적관객을 예측하는데 가장 중요한 변수라고 합니다.\n",
    "\n",
    "### 모델의 성능은?"
   ]
  },
  {
   "cell_type": "code",
   "execution_count": 231,
   "metadata": {},
   "outputs": [
    {
     "name": "stdout",
     "output_type": "stream",
     "text": [
      "R-sqaured : 0.332738\n"
     ]
    }
   ],
   "source": [
    "print('R-sqaured : {0:1f}'.format(reg.score(X,y)))"
   ]
  },
  {
   "cell_type": "markdown",
   "metadata": {},
   "source": [
    "### 모델 튜닝을 통해 성능을 높인뒤, 다시 feature importance 를 봅니다."
   ]
  },
  {
   "cell_type": "code",
   "execution_count": 240,
   "metadata": {},
   "outputs": [],
   "source": [
    "from __future__ import print_function\n",
    "from sklearn.model_selection import GridSearchCV\n",
    "from sklearn.metrics import classification_report\n",
    "from datetime import datetime"
   ]
  },
  {
   "cell_type": "code",
   "execution_count": 242,
   "metadata": {},
   "outputs": [],
   "source": [
    "from sklearn.metrics import * "
   ]
  },
  {
   "cell_type": "code",
   "execution_count": 243,
   "metadata": {},
   "outputs": [],
   "source": [
    "tuned_parameters = [{'max_depth':[1,3,5,7,9]}]"
   ]
  },
  {
   "cell_type": "code",
   "execution_count": 252,
   "metadata": {},
   "outputs": [],
   "source": [
    "#function for gridsearch\n",
    "def grid_search(X,y,reg_type = reg,scores=['explained_variance','neg_mean_absolute_error','r2'],tuned_parameters=tuned_parameters):\n",
    "    start_time = datetime.now()\n",
    "\n",
    "    #Reference : Sci-kit documentation\n",
    "    #위 레퍼런스와 stackoverflow를 참고했습니다.\n",
    "\n",
    "    for score in scores:\n",
    "        print(\"# Tuning hyper-parameters for %s\" % score)\n",
    "        print()\n",
    "\n",
    "        reg = GridSearchCV(reg_type, tuned_parameters, cv=5, n_jobs=4,\n",
    "                           scoring='%s' % score)\n",
    "        reg.fit(X, y)\n",
    "\n",
    "        print(\"Best parameters set found on development set:\")\n",
    "        print()\n",
    "        print(reg.best_params_)\n",
    "\n",
    "\n",
    "\n",
    "    end_time = datetime.now()\n",
    "    print('\\n\\n\\nDuration:{}'.format(end_time-start_time))"
   ]
  },
  {
   "cell_type": "code",
   "execution_count": 253,
   "metadata": {},
   "outputs": [
    {
     "name": "stdout",
     "output_type": "stream",
     "text": [
      "# Tuning hyper-parameters for explained_variance\n",
      "\n",
      "Best parameters set found on development set:\n",
      "\n",
      "{'max_depth': 1}\n",
      "# Tuning hyper-parameters for neg_mean_absolute_error\n",
      "\n",
      "Best parameters set found on development set:\n",
      "\n",
      "{'max_depth': 1}\n",
      "# Tuning hyper-parameters for r2\n",
      "\n",
      "Best parameters set found on development set:\n",
      "\n",
      "{'max_depth': 5}\n",
      "\n",
      "\n",
      "\n",
      "Duration:0:00:00.182512\n"
     ]
    },
    {
     "name": "stderr",
     "output_type": "stream",
     "text": [
      "C:\\ProgramData\\Miniconda3\\envs\\ml\\lib\\site-packages\\sklearn\\model_selection\\_search.py:841: DeprecationWarning: The default of the `iid` parameter will change from True to False in version 0.22 and will be removed in 0.24. This will change numeric results when test-set sizes are unequal.\n",
      "  DeprecationWarning)\n",
      "C:\\ProgramData\\Miniconda3\\envs\\ml\\lib\\site-packages\\sklearn\\model_selection\\_search.py:841: DeprecationWarning: The default of the `iid` parameter will change from True to False in version 0.22 and will be removed in 0.24. This will change numeric results when test-set sizes are unequal.\n",
      "  DeprecationWarning)\n",
      "C:\\ProgramData\\Miniconda3\\envs\\ml\\lib\\site-packages\\sklearn\\model_selection\\_search.py:841: DeprecationWarning: The default of the `iid` parameter will change from True to False in version 0.22 and will be removed in 0.24. This will change numeric results when test-set sizes are unequal.\n",
      "  DeprecationWarning)\n"
     ]
    }
   ],
   "source": [
    "grid_search(X,y, reg)"
   ]
  },
  {
   "cell_type": "markdown",
   "metadata": {},
   "source": [
    "### R-squared 값이 가장 높은 max_depth = 5 를 사용하여 다시  feature importance 를 구합니다"
   ]
  },
  {
   "cell_type": "code",
   "execution_count": 254,
   "metadata": {},
   "outputs": [
    {
     "data": {
      "text/plain": [
       "DecisionTreeRegressor(criterion='mse', max_depth=5, max_features=None,\n",
       "           max_leaf_nodes=None, min_impurity_decrease=0.0,\n",
       "           min_impurity_split=None, min_samples_leaf=1,\n",
       "           min_samples_split=2, min_weight_fraction_leaf=0.0,\n",
       "           presort=False, random_state=None, splitter='best')"
      ]
     },
     "execution_count": 254,
     "metadata": {},
     "output_type": "execute_result"
    }
   ],
   "source": [
    "reg = DT(max_depth=5)\n",
    "reg.fit(X,y)"
   ]
  },
  {
   "cell_type": "code",
   "execution_count": 255,
   "metadata": {},
   "outputs": [
    {
     "data": {
      "text/html": [
       "<div>\n",
       "<style scoped>\n",
       "    .dataframe tbody tr th:only-of-type {\n",
       "        vertical-align: middle;\n",
       "    }\n",
       "\n",
       "    .dataframe tbody tr th {\n",
       "        vertical-align: top;\n",
       "    }\n",
       "\n",
       "    .dataframe thead th {\n",
       "        text-align: right;\n",
       "    }\n",
       "</style>\n",
       "<table border=\"1\" class=\"dataframe\">\n",
       "  <thead>\n",
       "    <tr style=\"text-align: right;\">\n",
       "      <th></th>\n",
       "      <th>netizen_grade</th>\n",
       "      <th>critic_grade</th>\n",
       "      <th>running_time</th>\n",
       "      <th>discrepency</th>\n",
       "    </tr>\n",
       "  </thead>\n",
       "  <tbody>\n",
       "    <tr>\n",
       "      <th>0</th>\n",
       "      <td>0.059037</td>\n",
       "      <td>0.230249</td>\n",
       "      <td>0.573884</td>\n",
       "      <td>0.13683</td>\n",
       "    </tr>\n",
       "  </tbody>\n",
       "</table>\n",
       "</div>"
      ],
      "text/plain": [
       "   netizen_grade  critic_grade  running_time  discrepency\n",
       "0       0.059037      0.230249      0.573884      0.13683"
      ]
     },
     "execution_count": 255,
     "metadata": {},
     "output_type": "execute_result"
    }
   ],
   "source": [
    "pd.DataFrame(data=reg.feature_importances_.reshape(-1,4),columns=X.columns)"
   ]
  },
  {
   "cell_type": "code",
   "execution_count": 259,
   "metadata": {},
   "outputs": [
    {
     "data": {
      "text/plain": [
       "0.31227160148576816"
      ]
     },
     "execution_count": 259,
     "metadata": {},
     "output_type": "execute_result"
    }
   ],
   "source": [
    "y_pred = reg.predict(X)\n",
    "print(int(mean_absolute_error(y,y_pred))/y.mean())"
   ]
  }
 ],
 "metadata": {
  "kernelspec": {
   "display_name": "Python 3",
   "language": "python",
   "name": "python3"
  },
  "language_info": {
   "codemirror_mode": {
    "name": "ipython",
    "version": 3
   },
   "file_extension": ".py",
   "mimetype": "text/x-python",
   "name": "python",
   "nbconvert_exporter": "python",
   "pygments_lexer": "ipython3",
   "version": "3.7.1"
  }
 },
 "nbformat": 4,
 "nbformat_minor": 2
}
