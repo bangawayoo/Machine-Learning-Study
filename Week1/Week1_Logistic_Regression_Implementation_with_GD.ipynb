{
 "cells": [
  {
   "cell_type": "markdown",
   "metadata": {},
   "source": [
    "# Dataload and import library"
   ]
  },
  {
   "cell_type": "code",
   "execution_count": 1,
   "metadata": {},
   "outputs": [],
   "source": [
    "import numpy as np\n",
    "import matplotlib.pyplot as plt\n",
    "import pandas as pd\n",
    "import random\n"
   ]
  },
  {
   "cell_type": "code",
   "execution_count": 2,
   "metadata": {},
   "outputs": [
    {
     "data": {
      "text/html": [
       "<div>\n",
       "<style scoped>\n",
       "    .dataframe tbody tr th:only-of-type {\n",
       "        vertical-align: middle;\n",
       "    }\n",
       "\n",
       "    .dataframe tbody tr th {\n",
       "        vertical-align: top;\n",
       "    }\n",
       "\n",
       "    .dataframe thead th {\n",
       "        text-align: right;\n",
       "    }\n",
       "</style>\n",
       "<table border=\"1\" class=\"dataframe\">\n",
       "  <thead>\n",
       "    <tr style=\"text-align: right;\">\n",
       "      <th></th>\n",
       "      <th>Label</th>\n",
       "      <th>bias</th>\n",
       "      <th>experience</th>\n",
       "      <th>salary</th>\n",
       "    </tr>\n",
       "  </thead>\n",
       "  <tbody>\n",
       "    <tr>\n",
       "      <th>0</th>\n",
       "      <td>1</td>\n",
       "      <td>1</td>\n",
       "      <td>0.7</td>\n",
       "      <td>48000</td>\n",
       "    </tr>\n",
       "    <tr>\n",
       "      <th>1</th>\n",
       "      <td>0</td>\n",
       "      <td>1</td>\n",
       "      <td>1.9</td>\n",
       "      <td>48000</td>\n",
       "    </tr>\n",
       "    <tr>\n",
       "      <th>2</th>\n",
       "      <td>1</td>\n",
       "      <td>1</td>\n",
       "      <td>2.5</td>\n",
       "      <td>60000</td>\n",
       "    </tr>\n",
       "    <tr>\n",
       "      <th>3</th>\n",
       "      <td>0</td>\n",
       "      <td>1</td>\n",
       "      <td>4.2</td>\n",
       "      <td>63000</td>\n",
       "    </tr>\n",
       "    <tr>\n",
       "      <th>4</th>\n",
       "      <td>0</td>\n",
       "      <td>1</td>\n",
       "      <td>6.0</td>\n",
       "      <td>76000</td>\n",
       "    </tr>\n",
       "  </tbody>\n",
       "</table>\n",
       "</div>"
      ],
      "text/plain": [
       "   Label  bias  experience  salary\n",
       "0      1     1         0.7   48000\n",
       "1      0     1         1.9   48000\n",
       "2      1     1         2.5   60000\n",
       "3      0     1         4.2   63000\n",
       "4      0     1         6.0   76000"
      ]
     },
     "execution_count": 2,
     "metadata": {},
     "output_type": "execute_result"
    }
   ],
   "source": [
    "## 본인의 디렉토리에 맞게 설정하세요 \n",
    "data = pd.read_csv('assignment_2.csv')\n",
    "data.head()"
   ]
  },
  {
   "cell_type": "code",
   "execution_count": 3,
   "metadata": {},
   "outputs": [],
   "source": [
    "#Salary 단위 변환 \n",
    "data['salary']=data['salary'].apply(lambda x : x/10000)"
   ]
  },
  {
   "cell_type": "markdown",
   "metadata": {},
   "source": [
    "# Logistic regression 해야하는 data 의 scatter plot"
   ]
  },
  {
   "cell_type": "code",
   "execution_count": 7,
   "metadata": {},
   "outputs": [],
   "source": [
    "# filter out the applicants that got admitted\n",
    "MALE = data[data['Label']==1]\n",
    "FEMALE = data[data['Label'] == 0]\n"
   ]
  },
  {
   "cell_type": "code",
   "execution_count": 8,
   "metadata": {},
   "outputs": [
    {
     "data": {
      "image/png": "[encoded data removed]",
      "text/plain": [
       "<Figure size 432x288 with 1 Axes>"
      ]
     },
     "metadata": {
      "needs_background": "light"
     },
     "output_type": "display_data"
    }
   ],
   "source": [
    "\n",
    "# plots\n",
    "fig = plt.figure()\n",
    "plt.scatter(MALE.iloc[:, 2], MALE.iloc[:, 3], s=10, label='Male')\n",
    "plt.scatter(FEMALE.iloc[:, 2], FEMALE.iloc[:, 3], s=10, label='Female')\n",
    "ax = fig.add_subplot(1,1,1)\n",
    "ax.set_xlabel('Experience')\n",
    "ax.set_ylabel('Salary')\n",
    "plt.legend()\n",
    "plt.show()"
   ]
  },
  {
   "cell_type": "code",
   "execution_count": 9,
   "metadata": {},
   "outputs": [],
   "source": [
    "## 독립변수들\n",
    "X = data.iloc[:, 1:]\n",
    "\n",
    "# rescaled_X \n",
    "normalized_X = (X[['experience','salary']]-X[['experience','salary']].mean())/X[['experience','salary']].std()\n",
    "normalized_X['bias'] = X['bias']\n",
    "cols = normalized_X.columns.tolist()\n",
    "cols = cols[-1:] + cols[:-1]\n",
    "normalized_X = normalized_X[cols]\n",
    "normalized_X = normalized_X.values.tolist()\n",
    "X= np.array(normalized_X)\n",
    "\n",
    "\n",
    "# 종속변수 Target = T \n",
    "T = data['Label']\n",
    "T = T.values.tolist()\n",
    "T = np.array(T)\n",
    "\n",
    "\n",
    "# 회귀계수\n",
    "#beta = np.random.randn(3)\n",
    "beta= np.array([1,1,1])\n"
   ]
  },
  {
   "cell_type": "code",
   "execution_count": 10,
   "metadata": {},
   "outputs": [
    {
     "data": {
      "text/plain": [
       "array([1, 1, 1])"
      ]
     },
     "execution_count": 10,
     "metadata": {},
     "output_type": "execute_result"
    }
   ],
   "source": [
    "beta"
   ]
  },
  {
   "cell_type": "code",
   "execution_count": 11,
   "metadata": {},
   "outputs": [
    {
     "data": {
      "text/plain": [
       "array([1, 0, 1, 0, 0, 0, 0, 0, 1, 1, 0, 0, 1, 0, 0, 0, 0, 0, 0, 0, 0, 1,\n",
       "       0, 0, 1, 1, 0, 0, 1, 0, 0, 0, 1, 0, 1, 0, 1, 0, 1, 0, 0, 0, 0, 0,\n",
       "       1, 1, 1, 0, 0, 1, 0, 1, 0, 0, 0, 0, 1, 0, 0, 0, 0, 1, 0, 0, 1, 0,\n",
       "       0, 1, 1, 1, 0, 1, 1, 0, 0, 0, 0, 0, 0, 0, 0, 1, 0, 0, 0, 0, 0, 0,\n",
       "       0, 0, 0, 0, 1, 0, 0, 0, 1, 0, 0, 0, 0, 0, 0, 0, 1, 0, 0, 0, 0, 0,\n",
       "       0, 1, 0, 0, 0, 1, 0, 0, 0, 1, 0, 0, 0, 1, 1, 0, 0, 0, 0, 0, 0, 1,\n",
       "       0, 1, 0, 1, 0, 0, 0, 0, 0, 0, 0, 0, 0, 0, 1, 1, 0, 0, 1, 1, 1, 0,\n",
       "       0, 0, 0, 0, 1, 0, 1, 0, 0, 0, 0, 1, 0, 0, 0, 0, 0, 1, 0, 0, 0, 1,\n",
       "       0, 0, 0, 0, 0, 0, 0, 0, 1, 0, 0, 0, 0, 0, 0, 0, 0, 1, 0, 0, 0, 0,\n",
       "       1, 1])"
      ]
     },
     "execution_count": 11,
     "metadata": {},
     "output_type": "execute_result"
    }
   ],
   "source": [
    "T"
   ]
  },
  {
   "cell_type": "markdown",
   "metadata": {},
   "source": [
    "## 회귀식\n",
    "## $$ a_n=B^TX = \\hat{B}_0 +\\hat{B}_1x_1 +\\hat{B}_2x_2 ,    \\quad\\mbox{n=데이터 수}$$\n",
    "\n",
    "\n"
   ]
  },
  {
   "cell_type": "code",
   "execution_count": 12,
   "metadata": {},
   "outputs": [],
   "source": [
    "# 내적 -> 회귀계수와 X의 선형결합 \n",
    "a = X.dot(beta)"
   ]
  },
  {
   "cell_type": "markdown",
   "metadata": {},
   "source": [
    "## $$ \\mbox 로그오즈 = 회귀식을\\  p에\\  대해서\\  정리 $$\n",
    "## $$ log(Odds) = \\hat{B}_0 +\\hat{B}_1x_1 + \\hat{B}_2x_2 $$\n",
    "## $$ \\mbox P는 \\ 로지스틱 \\ 함수 $$\n",
    "## $$ P = \\frac{\\mathrm{1} }{\\mathrm{1} + e^{-a_n}} = \\sigma(x,B) $$ "
   ]
  },
  {
   "cell_type": "code",
   "execution_count": 13,
   "metadata": {},
   "outputs": [],
   "source": [
    "import numpy as np\n",
    "def sigmoid(x):\n",
    "    return 1 / (1 + np.exp(-x))"
   ]
  },
  {
   "cell_type": "code",
   "execution_count": 14,
   "metadata": {},
   "outputs": [],
   "source": [
    "P = sigmoid(a)"
   ]
  },
  {
   "cell_type": "markdown",
   "metadata": {},
   "source": [
    "## $$ \\mbox 각\\  데이터가\\  따르는\\  확률분포를\\   label\\  y와\\  엮어서\\  표현  $$\n",
    "\n",
    "## $$ P(x_i,y_i | B) = \\begin{cases} \\sigma(x,B)^{y}, & \\mbox{if }y\\mbox{ = 1} \\\\ (1-\\sigma(x,B))^{1-y}, & \\mbox{if }y\\mbox{ = 0} \\end{cases} $$"
   ]
  },
  {
   "cell_type": "markdown",
   "metadata": {},
   "source": [
    "## $$ \\mbox 위의 \\ 확률분포를 \\ 따르는 \\   데이터에서 \\ 얻은 \\ Likelihood  $$\n",
    "\n",
    "## $$ L = \\sigma(x,B)^{y}(1-\\sigma(x,B))^{1-y} $$ "
   ]
  },
  {
   "cell_type": "code",
   "execution_count": 15,
   "metadata": {},
   "outputs": [],
   "source": [
    "L = 1\n",
    "for idx in range(len(T)):\n",
    "    if T[idx] == 1:\n",
    "        L *= P[idx]\n",
    "    else :\n",
    "        L *= (1-P[idx])"
   ]
  },
  {
   "cell_type": "code",
   "execution_count": 16,
   "metadata": {},
   "outputs": [
    {
     "data": {
      "text/plain": [
       "6.946445682265916e-117"
      ]
     },
     "execution_count": 16,
     "metadata": {},
     "output_type": "execute_result"
    }
   ],
   "source": [
    "L"
   ]
  },
  {
   "cell_type": "markdown",
   "metadata": {},
   "source": [
    "## $$ \\mbox log 변환  $$\n",
    "\n",
    "## $$ L^*=log(L) = y\\sigma(x,B) + (1-y)(1-\\sigma(x,B)) $$ "
   ]
  },
  {
   "cell_type": "code",
   "execution_count": 17,
   "metadata": {},
   "outputs": [],
   "source": [
    "L_ = np.log(L)"
   ]
  },
  {
   "cell_type": "markdown",
   "metadata": {},
   "source": [
    "## $$ \\mbox Convex\\  function으로\\  만들기\\  위한 \\ (-) 곱   $$\n",
    "\n",
    "## $$ \\mbox J는\\ Loss\\ Function  $$\n",
    "\n",
    "## $$ J= - L^* $$\n",
    "\n",
    "## $$ \\mbox Loss\\ function \\ = \\ Negative\\ log \\ likelihood\\  $$"
   ]
  },
  {
   "cell_type": "markdown",
   "metadata": {},
   "source": [
    "## $$ \\mbox N개의 \\ 데이터에\\ 대한\\ Negative\\ Likelihood  $$\n",
    "## $$ J(x_i,y_i|B) = -\\sum_{i=1}^N y_i\\sigma(x_i,B)- \\sum_{i=1}^N(1-y_i)(1-\\sigma(x_i,B)) $$ \n"
   ]
  },
  {
   "cell_type": "code",
   "execution_count": 18,
   "metadata": {},
   "outputs": [],
   "source": [
    "'''\n",
    "Negative_Likelihood를 구현하세요\n",
    "INPUT: P, Y(LABEL)\n",
    "OUTPUT : 각 데이터들의 Negative_Likelihood 값의 합\n",
    "\n",
    "'''\n",
    "def neg_likelihood(p, label):\n",
    "    L = 1\n",
    "    for idx in range(len(T)):\n",
    "        if T[idx] == 1:\n",
    "            L *= P[idx]\n",
    "        else :\n",
    "            L *= (1-P[idx])\n",
    "    L_ = np.log(L)\n",
    "    J = - L_\n",
    "    return J"
   ]
  },
  {
   "cell_type": "code",
   "execution_count": 19,
   "metadata": {},
   "outputs": [
    {
     "data": {
      "text/plain": [
       "267.4642257641663"
      ]
     },
     "execution_count": 19,
     "metadata": {},
     "output_type": "execute_result"
    }
   ],
   "source": [
    "J = neg_likelihood(P,T)\n",
    "J"
   ]
  },
  {
   "cell_type": "markdown",
   "metadata": {},
   "source": [
    "## Loss function 에 대한 Gradient를 구하기 위한 작업 "
   ]
  },
  {
   "cell_type": "markdown",
   "metadata": {},
   "source": [
    "## $$ \\mbox J를 \\ B에 \\ 대해서\\ 편미분  $$\n",
    "\n",
    "## $$ \\mbox J는 \\ P에 \\ 대한\\ 함수이고, \\ P는 \\ a에 \\ 대한 \\ 함수이고,\\ a는\\ B에 \\ 대한\\ 함수  $$\n",
    "\n",
    "## $${\\partial J\\over\\partial B} =  -\\sum_{i=1}^N {\\partial J\\over\\partial P_i} {\\partial P_i\\over\\partial a_i} {\\partial a_i\\over\\partial B} $$ "
   ]
  },
  {
   "cell_type": "markdown",
   "metadata": {},
   "source": [
    "## $${\\partial J\\over\\partial P_i} = \\frac{y_i}{P_i}- \\frac{1-y_i}{1-P_i} ,\\quad {\\partial P_i\\over\\partial a_i} = P_i(1-P_i), \\quad {\\partial a_i\\over\\partial B}=X^T $$ "
   ]
  },
  {
   "cell_type": "markdown",
   "metadata": {},
   "source": [
    "## $$ \\mbox 또한 \\ B는 \\ B_0,\\ B_1,\\ B_2이\\  있어서\\ 각각\\ 편미분    $$\n",
    "## $$ \\mbox 간단하게 \\  표현하면   $$"
   ]
  },
  {
   "cell_type": "markdown",
   "metadata": {},
   "source": [
    "## $${\\partial J\\over\\partial B} =  -\\sum_{i=1}^N {\\partial J\\over\\partial P_i} {\\partial P_i\\over\\partial a_i} {\\partial a_i\\over\\partial B} = - X^T(y-P) =  X^T(y-P)$$ "
   ]
  },
  {
   "cell_type": "code",
   "execution_count": 20,
   "metadata": {
    "scrolled": true
   },
   "outputs": [
    {
     "data": {
      "text/plain": [
       "200"
      ]
     },
     "execution_count": 20,
     "metadata": {},
     "output_type": "execute_result"
    }
   ],
   "source": [
    "T.shape[0]"
   ]
  },
  {
   "cell_type": "code",
   "execution_count": 21,
   "metadata": {},
   "outputs": [],
   "source": [
    "'''\n",
    "위에서 구한 Negative Likelihood 함수를 각각 베타에 편미분하여 Gradient를 계산하고\n",
    "Learning_rate와 곱하여 회귀계수를 업데이트 해주세요.\n",
    "회귀계수가 업데이트 될 때 마다, P도 다시 업데이트 되야 합니다. \n",
    "'''\n",
    "#Initialize learning rate to 0.05, iterations to 1000\n",
    "lr = 0.05\n",
    "iterations = 1000\n",
    "beta= np.array([1,1,1])\n",
    "\n",
    "\n",
    "#Gradient 식을 수정했습니다.\n",
    "gradient = np.dot(X.T, (P-T))/ T.shape[0]   #gradient = np.dot(X.T, (T-a))\n",
    "\n",
    "#cost값과 beta 에 변화를 저장하는 변수\n",
    "cost_log = np.zeros(iterations)\n",
    "beta_log = np.zeros((iterations,3))\n",
    "\n"
   ]
  },
  {
   "cell_type": "code",
   "execution_count": 24,
   "metadata": {},
   "outputs": [
    {
     "name": "stdout",
     "output_type": "stream",
     "text": [
      "Cost at 0 : 261.56\n",
      "Cost at 50 : 151.23\n",
      "Cost at 100 : 111.20\n",
      "Cost at 150 : 98.18\n",
      "Cost at 200 : 91.65\n",
      "Cost at 250 : 87.27\n",
      "Cost at 300 : 83.91\n",
      "Cost at 350 : 81.18\n",
      "Cost at 400 : 78.88\n",
      "Cost at 450 : 76.92\n",
      "Cost at 500 : 75.22\n",
      "Cost at 550 : 73.74\n",
      "Cost at 600 : 72.44\n",
      "Cost at 650 : 71.29\n",
      "Cost at 700 : 70.26\n",
      "Cost at 750 : 69.35\n",
      "Cost at 800 : 68.52\n",
      "Cost at 850 : 67.78\n",
      "Cost at 900 : 67.11\n",
      "Cost at 950 : 66.50\n"
     ]
    }
   ],
   "source": [
    "for it in range(iterations):\n",
    "    a = X.dot(beta)\n",
    "    P = sigmoid(a)\n",
    "    gradient = np.dot(X.T, (P-T))/ T.shape[0]\n",
    "    beta = beta - lr*gradient\n",
    "    cost_log[it] = neg_likelihood(P,T)   \n",
    "    beta_log[it,:] = beta.T\n",
    "    \n",
    "    #매 50 회 마다 cost 출력\n",
    "    if it%50 ==0 :\n",
    "        print('Cost at {0} : {1:.2f}'.format(str(it),cost_log[it]))"
   ]
  },
  {
   "cell_type": "code",
   "execution_count": 25,
   "metadata": {},
   "outputs": [
    {
     "data": {
      "image/png": "[encoded data removed]",
      "text/plain": [
       "<Figure size 432x288 with 1 Axes>"
      ]
     },
     "metadata": {
      "needs_background": "light"
     },
     "output_type": "display_data"
    }
   ],
   "source": [
    "'''추정된 회귀계수가 beta=[B0,B2,B3]이라면, 다음 코드를 통해 시각화가 가능합니다'''\n",
    "\n",
    "\n",
    "fig = plt.figure()\n",
    "plt.scatter(MALE.iloc[:, 2], MALE.iloc[:, 3], s=10, label='Male',alpha=0.5)\n",
    "plt.scatter(FEMALE.iloc[:, 2], FEMALE.iloc[:, 3], s=10, label='Female',alpha=0.5)\n",
    "#plt.scatter(X[:,1], X[:,2],c=T , s=10, alpha=0.8)\n",
    "x_axis = np.linspace(0, 10,50)\n",
    "y_axis = -(beta[0] + x_axis*beta[1]) / beta[2]\n",
    "\n",
    "ax = fig.add_subplot(1,1,1)\n",
    "ax.set_xlabel('Experience')\n",
    "ax.set_ylabel('Salary')\n",
    "plt.plot(x_axis, y_axis)\n",
    "plt.legend()\n",
    "plt.show()\n",
    "\n",
    "\n",
    "\n"
   ]
  },
  {
   "cell_type": "markdown",
   "metadata": {},
   "source": [
    "### 직접 구현을 한 rough한 GD이기 때문에 성능이 안좋을 수 있습니다\n",
    "### 초기값에 매우 민감하며, 기타 하이퍼 파라미터에 따라 성능이 달라집니다"
   ]
  }
 ],
 "metadata": {
  "kernelspec": {
   "display_name": "Python 3",
   "language": "python",
   "name": "python3"
  },
  "language_info": {
   "codemirror_mode": {
    "name": "ipython",
    "version": 3
   },
   "file_extension": ".py",
   "mimetype": "text/x-python",
   "name": "python",
   "nbconvert_exporter": "python",
   "pygments_lexer": "ipython3",
   "version": "3.7.2"
  }
 },
 "nbformat": 4,
 "nbformat_minor": 2
}
