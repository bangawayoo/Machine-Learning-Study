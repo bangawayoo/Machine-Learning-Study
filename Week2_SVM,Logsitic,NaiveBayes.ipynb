{
 "cells": [
  {
   "cell_type": "code",
   "execution_count": 3,
   "metadata": {},
   "outputs": [],
   "source": [
    "import pandas as pd\n",
    "import numpy as np"
   ]
  },
  {
   "cell_type": "markdown",
   "metadata": {},
   "source": [
    "# Data Preprocessing"
   ]
  },
  {
   "cell_type": "code",
   "execution_count": 4,
   "metadata": {},
   "outputs": [],
   "source": [
    "df = pd.read_csv('Auction_master/Auction_master_train.csv')"
   ]
  },
  {
   "cell_type": "code",
   "execution_count": 5,
   "metadata": {},
   "outputs": [
    {
     "data": {
      "text/html": [
       "<div>\n",
       "<style scoped>\n",
       "    .dataframe tbody tr th:only-of-type {\n",
       "        vertical-align: middle;\n",
       "    }\n",
       "\n",
       "    .dataframe tbody tr th {\n",
       "        vertical-align: top;\n",
       "    }\n",
       "\n",
       "    .dataframe thead th {\n",
       "        text-align: right;\n",
       "    }\n",
       "</style>\n",
       "<table border=\"1\" class=\"dataframe\">\n",
       "  <thead>\n",
       "    <tr style=\"text-align: right;\">\n",
       "      <th></th>\n",
       "      <th>Auction_key</th>\n",
       "      <th>Auction_class</th>\n",
       "      <th>Bid_class</th>\n",
       "      <th>Claim_price</th>\n",
       "      <th>Appraisal_company</th>\n",
       "      <th>Appraisal_date</th>\n",
       "      <th>Auction_count</th>\n",
       "      <th>Auction_miscarriage_count</th>\n",
       "      <th>Total_land_gross_area</th>\n",
       "      <th>Total_land_real_area</th>\n",
       "      <th>...</th>\n",
       "      <th>Specific</th>\n",
       "      <th>Share_auction_YorN</th>\n",
       "      <th>road_name</th>\n",
       "      <th>road_bunji1</th>\n",
       "      <th>road_bunji2</th>\n",
       "      <th>Close_date</th>\n",
       "      <th>Close_result</th>\n",
       "      <th>point.y</th>\n",
       "      <th>point.x</th>\n",
       "      <th>Hammer_price</th>\n",
       "    </tr>\n",
       "  </thead>\n",
       "  <tbody>\n",
       "    <tr>\n",
       "      <th>0</th>\n",
       "      <td>2687</td>\n",
       "      <td>임의</td>\n",
       "      <td>개별</td>\n",
       "      <td>1766037301</td>\n",
       "      <td>정명감정</td>\n",
       "      <td>2017-07-26 00:00:00</td>\n",
       "      <td>2</td>\n",
       "      <td>1</td>\n",
       "      <td>12592.0</td>\n",
       "      <td>37.35</td>\n",
       "      <td>...</td>\n",
       "      <td>NaN</td>\n",
       "      <td>N</td>\n",
       "      <td>해운대해변로</td>\n",
       "      <td>30.0</td>\n",
       "      <td>NaN</td>\n",
       "      <td>2018-06-14 00:00:00</td>\n",
       "      <td>배당</td>\n",
       "      <td>35.162717</td>\n",
       "      <td>129.137048</td>\n",
       "      <td>760000000</td>\n",
       "    </tr>\n",
       "    <tr>\n",
       "      <th>1</th>\n",
       "      <td>2577</td>\n",
       "      <td>임의</td>\n",
       "      <td>일반</td>\n",
       "      <td>152946867</td>\n",
       "      <td>희감정</td>\n",
       "      <td>2016-09-12 00:00:00</td>\n",
       "      <td>2</td>\n",
       "      <td>1</td>\n",
       "      <td>42478.1</td>\n",
       "      <td>18.76</td>\n",
       "      <td>...</td>\n",
       "      <td>NaN</td>\n",
       "      <td>N</td>\n",
       "      <td>마린시티2로</td>\n",
       "      <td>33.0</td>\n",
       "      <td>NaN</td>\n",
       "      <td>2017-03-30 00:00:00</td>\n",
       "      <td>배당</td>\n",
       "      <td>35.156633</td>\n",
       "      <td>129.145068</td>\n",
       "      <td>971889999</td>\n",
       "    </tr>\n",
       "    <tr>\n",
       "      <th>2</th>\n",
       "      <td>2197</td>\n",
       "      <td>임의</td>\n",
       "      <td>개별</td>\n",
       "      <td>11326510</td>\n",
       "      <td>혜림감정</td>\n",
       "      <td>2016-11-22 00:00:00</td>\n",
       "      <td>3</td>\n",
       "      <td>2</td>\n",
       "      <td>149683.1</td>\n",
       "      <td>71.00</td>\n",
       "      <td>...</td>\n",
       "      <td>NaN</td>\n",
       "      <td>N</td>\n",
       "      <td>모라로110번길</td>\n",
       "      <td>88.0</td>\n",
       "      <td>NaN</td>\n",
       "      <td>2017-12-13 00:00:00</td>\n",
       "      <td>배당</td>\n",
       "      <td>35.184601</td>\n",
       "      <td>128.996765</td>\n",
       "      <td>93399999</td>\n",
       "    </tr>\n",
       "    <tr>\n",
       "      <th>3</th>\n",
       "      <td>2642</td>\n",
       "      <td>임의</td>\n",
       "      <td>일반</td>\n",
       "      <td>183581724</td>\n",
       "      <td>신라감정</td>\n",
       "      <td>2016-12-13 00:00:00</td>\n",
       "      <td>2</td>\n",
       "      <td>1</td>\n",
       "      <td>24405.0</td>\n",
       "      <td>32.98</td>\n",
       "      <td>...</td>\n",
       "      <td>NaN</td>\n",
       "      <td>N</td>\n",
       "      <td>황령대로319번가길</td>\n",
       "      <td>110.0</td>\n",
       "      <td>NaN</td>\n",
       "      <td>2017-12-27 00:00:00</td>\n",
       "      <td>배당</td>\n",
       "      <td>35.154180</td>\n",
       "      <td>129.089081</td>\n",
       "      <td>256899000</td>\n",
       "    </tr>\n",
       "    <tr>\n",
       "      <th>4</th>\n",
       "      <td>1958</td>\n",
       "      <td>강제</td>\n",
       "      <td>일반</td>\n",
       "      <td>45887671</td>\n",
       "      <td>나라감정</td>\n",
       "      <td>2016-03-07 00:00:00</td>\n",
       "      <td>2</td>\n",
       "      <td>1</td>\n",
       "      <td>774.0</td>\n",
       "      <td>45.18</td>\n",
       "      <td>...</td>\n",
       "      <td>NaN</td>\n",
       "      <td>N</td>\n",
       "      <td>오작로</td>\n",
       "      <td>51.0</td>\n",
       "      <td>NaN</td>\n",
       "      <td>2016-10-04 00:00:00</td>\n",
       "      <td>배당</td>\n",
       "      <td>35.099630</td>\n",
       "      <td>128.998874</td>\n",
       "      <td>158660000</td>\n",
       "    </tr>\n",
       "  </tbody>\n",
       "</table>\n",
       "<p>5 rows × 41 columns</p>\n",
       "</div>"
      ],
      "text/plain": [
       "   Auction_key Auction_class Bid_class  Claim_price Appraisal_company  \\\n",
       "0         2687            임의        개별   1766037301              정명감정   \n",
       "1         2577            임의        일반    152946867               희감정   \n",
       "2         2197            임의        개별     11326510              혜림감정   \n",
       "3         2642            임의        일반    183581724              신라감정   \n",
       "4         1958            강제        일반     45887671              나라감정   \n",
       "\n",
       "        Appraisal_date  Auction_count  Auction_miscarriage_count  \\\n",
       "0  2017-07-26 00:00:00              2                          1   \n",
       "1  2016-09-12 00:00:00              2                          1   \n",
       "2  2016-11-22 00:00:00              3                          2   \n",
       "3  2016-12-13 00:00:00              2                          1   \n",
       "4  2016-03-07 00:00:00              2                          1   \n",
       "\n",
       "   Total_land_gross_area  Total_land_real_area     ...       Specific  \\\n",
       "0                12592.0                 37.35     ...            NaN   \n",
       "1                42478.1                 18.76     ...            NaN   \n",
       "2               149683.1                 71.00     ...            NaN   \n",
       "3                24405.0                 32.98     ...            NaN   \n",
       "4                  774.0                 45.18     ...            NaN   \n",
       "\n",
       "   Share_auction_YorN   road_name  road_bunji1  road_bunji2  \\\n",
       "0                   N      해운대해변로         30.0          NaN   \n",
       "1                   N      마린시티2로         33.0          NaN   \n",
       "2                   N    모라로110번길         88.0          NaN   \n",
       "3                   N  황령대로319번가길        110.0          NaN   \n",
       "4                   N         오작로         51.0          NaN   \n",
       "\n",
       "            Close_date Close_result    point.y     point.x Hammer_price  \n",
       "0  2018-06-14 00:00:00           배당  35.162717  129.137048    760000000  \n",
       "1  2017-03-30 00:00:00           배당  35.156633  129.145068    971889999  \n",
       "2  2017-12-13 00:00:00           배당  35.184601  128.996765     93399999  \n",
       "3  2017-12-27 00:00:00           배당  35.154180  129.089081    256899000  \n",
       "4  2016-10-04 00:00:00           배당  35.099630  128.998874    158660000  \n",
       "\n",
       "[5 rows x 41 columns]"
      ]
     },
     "execution_count": 5,
     "metadata": {},
     "output_type": "execute_result"
    }
   ],
   "source": [
    "df.head()"
   ]
  },
  {
   "cell_type": "markdown",
   "metadata": {},
   "source": [
    "## Set label (Hammer price 상위 50% 와 하위 50%)"
   ]
  },
  {
   "cell_type": "code",
   "execution_count": 6,
   "metadata": {},
   "outputs": [
    {
     "data": {
      "text/plain": [
       "354450000.0"
      ]
     },
     "execution_count": 6,
     "metadata": {},
     "output_type": "execute_result"
    }
   ],
   "source": [
    "#Hammer price 중앙값\n",
    "med = df['Hammer_price'].median()\n",
    "med"
   ]
  },
  {
   "cell_type": "code",
   "execution_count": 7,
   "metadata": {},
   "outputs": [
    {
     "data": {
      "text/html": [
       "<div>\n",
       "<style scoped>\n",
       "    .dataframe tbody tr th:only-of-type {\n",
       "        vertical-align: middle;\n",
       "    }\n",
       "\n",
       "    .dataframe tbody tr th {\n",
       "        vertical-align: top;\n",
       "    }\n",
       "\n",
       "    .dataframe thead th {\n",
       "        text-align: right;\n",
       "    }\n",
       "</style>\n",
       "<table border=\"1\" class=\"dataframe\">\n",
       "  <thead>\n",
       "    <tr style=\"text-align: right;\">\n",
       "      <th></th>\n",
       "      <th>Hammer_price</th>\n",
       "      <th>label</th>\n",
       "    </tr>\n",
       "  </thead>\n",
       "  <tbody>\n",
       "    <tr>\n",
       "      <th>0</th>\n",
       "      <td>760000000</td>\n",
       "      <td>1.0</td>\n",
       "    </tr>\n",
       "    <tr>\n",
       "      <th>1</th>\n",
       "      <td>971889999</td>\n",
       "      <td>1.0</td>\n",
       "    </tr>\n",
       "    <tr>\n",
       "      <th>2</th>\n",
       "      <td>93399999</td>\n",
       "      <td>0.0</td>\n",
       "    </tr>\n",
       "    <tr>\n",
       "      <th>3</th>\n",
       "      <td>256899000</td>\n",
       "      <td>0.0</td>\n",
       "    </tr>\n",
       "    <tr>\n",
       "      <th>4</th>\n",
       "      <td>158660000</td>\n",
       "      <td>0.0</td>\n",
       "    </tr>\n",
       "    <tr>\n",
       "      <th>5</th>\n",
       "      <td>206989000</td>\n",
       "      <td>0.0</td>\n",
       "    </tr>\n",
       "    <tr>\n",
       "      <th>6</th>\n",
       "      <td>135500000</td>\n",
       "      <td>0.0</td>\n",
       "    </tr>\n",
       "    <tr>\n",
       "      <th>7</th>\n",
       "      <td>640299999</td>\n",
       "      <td>1.0</td>\n",
       "    </tr>\n",
       "    <tr>\n",
       "      <th>8</th>\n",
       "      <td>77380000</td>\n",
       "      <td>0.0</td>\n",
       "    </tr>\n",
       "    <tr>\n",
       "      <th>9</th>\n",
       "      <td>177070000</td>\n",
       "      <td>0.0</td>\n",
       "    </tr>\n",
       "  </tbody>\n",
       "</table>\n",
       "</div>"
      ],
      "text/plain": [
       "   Hammer_price  label\n",
       "0     760000000    1.0\n",
       "1     971889999    1.0\n",
       "2      93399999    0.0\n",
       "3     256899000    0.0\n",
       "4     158660000    0.0\n",
       "5     206989000    0.0\n",
       "6     135500000    0.0\n",
       "7     640299999    1.0\n",
       "8      77380000    0.0\n",
       "9     177070000    0.0"
      ]
     },
     "execution_count": 7,
     "metadata": {},
     "output_type": "execute_result"
    }
   ],
   "source": [
    "#Median 보다 크면 1, 작다면 0 설정\n",
    "df.loc[df['Hammer_price'] >= med, 'label'] = 1\n",
    "df.loc[df['Hammer_price'] < med, 'label'] = 0\n",
    "df[['Hammer_price','label']].head(10)"
   ]
  },
  {
   "cell_type": "markdown",
   "metadata": {},
   "source": [
    "## Linear Regression 과 유사한 방식으로 전처리하였습니다.\n",
    "- (날짜를 제외하고) 범주형 변수 중 unique 값이 10개 이상인 변수 제거 \n",
    "- 예측에 의미 없는 final_result, auciton_key 제거\n",
    "- 주소에 대한 정보는 부산/서울, 위도로 충분하다고 가정\n",
    "- 날짜변수는 율리안 날짜로 변환"
   ]
  },
  {
   "cell_type": "code",
   "execution_count": 8,
   "metadata": {},
   "outputs": [],
   "source": [
    "#범주형 변수 선택\n",
    "categorical_col = list(df.select_dtypes(include='object').columns)"
   ]
  },
  {
   "cell_type": "code",
   "execution_count": 9,
   "metadata": {},
   "outputs": [
    {
     "data": {
      "text/plain": [
       "['Appraisal_company',\n",
       " 'Creditor',\n",
       " 'addr_si',\n",
       " 'addr_dong',\n",
       " 'addr_li',\n",
       " 'addr_etc',\n",
       " 'Specific',\n",
       " 'road_name']"
      ]
     },
     "execution_count": 9,
     "metadata": {},
     "output_type": "execute_result"
    }
   ],
   "source": [
    "#Unique 값이 10 개 이상인 범주형 변수 선택\n",
    "categorical_col = [i for i in categorical_col if len(set(df[i])) >= 10 and 'date' not in i]\n",
    "categorical_col"
   ]
  },
  {
   "cell_type": "code",
   "execution_count": 10,
   "metadata": {
    "scrolled": true
   },
   "outputs": [
    {
     "data": {
      "text/plain": [
       "Index(['Auction_key', 'Auction_class', 'Bid_class', 'Claim_price',\n",
       "       'Appraisal_date', 'Auction_count', 'Auction_miscarriage_count',\n",
       "       'Total_land_gross_area', 'Total_land_real_area',\n",
       "       'Total_land_auction_area', 'Total_building_area',\n",
       "       'Total_building_auction_area', 'Total_appraisal_price',\n",
       "       'Minimum_sales_price', 'First_auction_date', 'Final_auction_date',\n",
       "       'Final_result', 'addr_do', 'addr_san', 'addr_bunji1', 'addr_bunji2',\n",
       "       'Apartment_usage', 'Preserve_regist_date', 'Total_floor',\n",
       "       'Current_floor', 'Share_auction_YorN', 'road_bunji1', 'road_bunji2',\n",
       "       'Close_date', 'Close_result', 'point.y', 'point.x', 'Hammer_price',\n",
       "       'label'],\n",
       "      dtype='object')"
      ]
     },
     "execution_count": 10,
     "metadata": {},
     "output_type": "execute_result"
    }
   ],
   "source": [
    "#선택된 변수 제거 \n",
    "df = df.drop(labels = categorical_col, axis = 1)\n",
    "df.columns"
   ]
  },
  {
   "cell_type": "code",
   "execution_count": 11,
   "metadata": {},
   "outputs": [],
   "source": [
    "#예측에 의미 없는 변수 및 추가적인 주소에 관한 변수 제거\n",
    "del df['Final_result']\n",
    "del df['Auction_key']\n",
    "\n",
    "#'addr_do' 를 제외하고 주소 정보 columns 선택\n",
    "add_var = [i for i in list(df.columns) if 'addr' in i and i != 'addr_do']\n",
    "road_var = [i for i in list(df.columns) if 'road' in i ]\n",
    "\n",
    "df = df.drop(labels = add_var + road_var, axis =1 )"
   ]
  },
  {
   "cell_type": "markdown",
   "metadata": {},
   "source": [
    "### 나머지 범주형 변수 label encoding\n",
    "**모두 nominal value 이지만 attribute 이 3개 이하라 label encoding 했습니다"
   ]
  },
  {
   "cell_type": "code",
   "execution_count": 12,
   "metadata": {},
   "outputs": [
    {
     "data": {
      "text/plain": [
       "['Auction_class',\n",
       " 'Bid_class',\n",
       " 'addr_do',\n",
       " 'Apartment_usage',\n",
       " 'Share_auction_YorN',\n",
       " 'Close_result']"
      ]
     },
     "execution_count": 12,
     "metadata": {},
     "output_type": "execute_result"
    }
   ],
   "source": [
    "categorical_col = list(df.select_dtypes(include='object').columns)\n",
    "categorical_col = [i for i in categorical_col if 'date' not in i]\n",
    "categorical_col"
   ]
  },
  {
   "cell_type": "code",
   "execution_count": 13,
   "metadata": {},
   "outputs": [],
   "source": [
    "#카테고리형 변수로 변환\n",
    "for cat in categorical_col:\n",
    "    df[cat] = df[cat].astype('category')\n",
    "    df[cat] = df[cat].cat.codes"
   ]
  },
  {
   "cell_type": "code",
   "execution_count": 14,
   "metadata": {},
   "outputs": [
    {
     "data": {
      "text/plain": [
       "0    1\n",
       "1    1\n",
       "2    1\n",
       "3    1\n",
       "4    0\n",
       "Name: Auction_class, dtype: int8"
      ]
     },
     "execution_count": 14,
     "metadata": {},
     "output_type": "execute_result"
    }
   ],
   "source": [
    "#예시\n",
    "df['Auction_class'].head(5)"
   ]
  },
  {
   "cell_type": "markdown",
   "metadata": {},
   "source": [
    "### 날짜 변수 처리"
   ]
  },
  {
   "cell_type": "code",
   "execution_count": 15,
   "metadata": {},
   "outputs": [],
   "source": [
    "#Julian Date 로 변환하는 함수\n",
    "import math\n",
    "\n",
    "def date_to_jd(date):\n",
    "\n",
    "    year = int(date[:4])\n",
    "    month = int(date[5:7])\n",
    "    day = int(date[8:10])\n",
    "    if month == 1 or month == 2:\n",
    "        yearp = year - 1\n",
    "        monthp = month + 12\n",
    "    else:\n",
    "        yearp = year\n",
    "        monthp = month\n",
    "    \n",
    "    # this checks where we are in relation to October 15, 1582, the beginning\n",
    "    # of the Gregorian calendar.\n",
    "    if ((year < 1582) or\n",
    "        (year == 1582 and month < 10) or\n",
    "        (year == 1582 and month == 10 and day < 15)):\n",
    "        # before start of Gregorian calendar\n",
    "        B = 0\n",
    "    else:\n",
    "        # after start of Gregorian calendar\n",
    "        A = math.trunc(yearp / 100.)\n",
    "        B = 2 - A + math.trunc(A / 4.)\n",
    "        \n",
    "    if yearp < 0:\n",
    "        C = math.trunc((365.25 * yearp) - 0.75)\n",
    "    else:\n",
    "        C = math.trunc(365.25 * yearp)\n",
    "        \n",
    "    D = math.trunc(30.6001 * (monthp + 1))\n",
    "    \n",
    "    jd = B + C + D + day + 1720994.5\n",
    "    \n",
    "    return jd"
   ]
  },
  {
   "cell_type": "code",
   "execution_count": 16,
   "metadata": {},
   "outputs": [
    {
     "data": {
      "text/plain": [
       "['Appraisal_date',\n",
       " 'First_auction_date',\n",
       " 'Final_auction_date',\n",
       " 'Preserve_regist_date',\n",
       " 'Close_date']"
      ]
     },
     "execution_count": 16,
     "metadata": {},
     "output_type": "execute_result"
    }
   ],
   "source": [
    "date_var = [i for i in list(df.columns) if 'date' in i]\n",
    "date_var"
   ]
  },
  {
   "cell_type": "code",
   "execution_count": 17,
   "metadata": {},
   "outputs": [],
   "source": [
    "for date in date_var:\n",
    "    df[date] = df[date].apply(date_to_jd)"
   ]
  },
  {
   "cell_type": "code",
   "execution_count": 18,
   "metadata": {},
   "outputs": [
    {
     "data": {
      "text/plain": [
       "Index(['Auction_class', 'Bid_class', 'Claim_price', 'Appraisal_date',\n",
       "       'Auction_count', 'Auction_miscarriage_count', 'Total_land_gross_area',\n",
       "       'Total_land_real_area', 'Total_land_auction_area',\n",
       "       'Total_building_area', 'Total_building_auction_area',\n",
       "       'Total_appraisal_price', 'Minimum_sales_price', 'First_auction_date',\n",
       "       'Final_auction_date', 'addr_do', 'Apartment_usage',\n",
       "       'Preserve_regist_date', 'Total_floor', 'Current_floor',\n",
       "       'Share_auction_YorN', 'Close_date', 'Close_result', 'point.y',\n",
       "       'point.x', 'Hammer_price', 'label'],\n",
       "      dtype='object')"
      ]
     },
     "execution_count": 18,
     "metadata": {},
     "output_type": "execute_result"
    }
   ],
   "source": [
    "sel_features = df.columns\n",
    "sel_features"
   ]
  },
  {
   "cell_type": "markdown",
   "metadata": {},
   "source": [
    "# SVM model"
   ]
  },
  {
   "cell_type": "code",
   "execution_count": 19,
   "metadata": {},
   "outputs": [],
   "source": [
    "from sklearn import datasets\n",
    "from sklearn.pipeline import Pipeline\n",
    "from sklearn.preprocessing import StandardScaler\n",
    "from sklearn.svm import LinearSVC"
   ]
  },
  {
   "cell_type": "code",
   "execution_count": 20,
   "metadata": {},
   "outputs": [],
   "source": [
    "X = df.drop(['Hammer_price','label'],axis=1)\n",
    "y = df['label']"
   ]
  },
  {
   "cell_type": "code",
   "execution_count": 21,
   "metadata": {},
   "outputs": [
    {
     "data": {
      "text/plain": [
       "Pipeline(memory=None,\n",
       "     steps=[('scaler', StandardScaler(copy=True, with_mean=True, with_std=True)), ('liear_svc', LinearSVC(C=1, class_weight=None, dual=True, fit_intercept=True,\n",
       "     intercept_scaling=1, loss='hinge', max_iter=1000, multi_class='ovr',\n",
       "     penalty='l2', random_state=42, tol=0.0001, verbose=0))])"
      ]
     },
     "execution_count": 21,
     "metadata": {},
     "output_type": "execute_result"
    }
   ],
   "source": [
    "#Using linear SVC\n",
    "svm_clf = Pipeline([\n",
    "    ('scaler', StandardScaler()),\n",
    "    ('liear_svc', LinearSVC(C=1, loss='hinge', random_state=42))\n",
    "])\n",
    "\n",
    "svm_clf.fit(X, y)"
   ]
  },
  {
   "cell_type": "code",
   "execution_count": 22,
   "metadata": {},
   "outputs": [],
   "source": [
    "from sklearn.model_selection import KFold\n",
    "from sklearn.metrics import accuracy_score\n",
    "#Reference: 박규리님 참고자료\n",
    "def fivefold(X,y,model):\n",
    "    model_scores = np.zeros(5)\n",
    "    scores = np.zeros(5)\n",
    "    if type(X) is np.ndarray:\n",
    "        X = pd.DataFrame(X)\n",
    "\n",
    "\n",
    "    cv = KFold(5, shuffle=False, random_state=0)\n",
    "    for i, (idx_train, idx_test) in enumerate(cv.split(X)):\n",
    "        #데이터 하나씩 트레인과 테스트에 부과\n",
    "        X_train = X.iloc[idx_train]\n",
    "        X_test = X.iloc[idx_test]\n",
    "        y_train, y_test = y[idx_train], y[idx_test]\n",
    "\n",
    "        #모델 fit\n",
    "        result = model.fit(X_train,y_train)\n",
    "\n",
    "        #prediction\n",
    "        model_pred = result.predict(X_train)\n",
    "        pred = result.predict(X_test)\n",
    "        model_acc = accuracy_score(y_train, model_pred)\n",
    "        acc = accuracy_score(y_test, pred)\n",
    "\n",
    "        #test 5번 하나하나 프린트\n",
    "        model_scores[i] = model_acc\n",
    "        scores[i] = acc\n",
    "        print(\"학습 accuacy = {:.2f}, 검증 accuacy = {:.2f}\".format(model_acc, acc))\n",
    "    print('평균 train accuacy : %.2f'  %(model_scores.mean()))\n",
    "    print('평균 test accuacy : %.2f'  %(scores.mean()))"
   ]
  },
  {
   "cell_type": "code",
   "execution_count": 23,
   "metadata": {},
   "outputs": [
    {
     "name": "stdout",
     "output_type": "stream",
     "text": [
      "학습 accuacy = 0.97, 검증 accuacy = 0.97\n",
      "학습 accuacy = 0.97, 검증 accuacy = 0.97\n",
      "학습 accuacy = 0.97, 검증 accuacy = 0.95\n",
      "학습 accuacy = 0.97, 검증 accuacy = 0.96\n",
      "학습 accuacy = 0.97, 검증 accuacy = 0.96\n",
      "평균 train accuacy : 0.97\n",
      "평균 test accuacy : 0.96\n"
     ]
    }
   ],
   "source": [
    "import warnings\n",
    "warnings.filterwarnings('ignore') #hide warnings\n",
    "\n",
    "fivefold(X,y,svm_clf)"
   ]
  },
  {
   "cell_type": "markdown",
   "metadata": {},
   "source": [
    "## PCA 적용 "
   ]
  },
  {
   "cell_type": "code",
   "execution_count": 24,
   "metadata": {},
   "outputs": [],
   "source": [
    "from sklearn.decomposition import PCA"
   ]
  },
  {
   "cell_type": "code",
   "execution_count": 25,
   "metadata": {},
   "outputs": [],
   "source": [
    "pca = PCA(n_components = 2)\n",
    "X_pca = pca.fit_transform(X)\n",
    "X_pca = pd.DataFrame(X_pca)"
   ]
  },
  {
   "cell_type": "code",
   "execution_count": 26,
   "metadata": {},
   "outputs": [
    {
     "data": {
      "text/plain": [
       "array([0.70852506, 0.28616402])"
      ]
     },
     "execution_count": 26,
     "metadata": {},
     "output_type": "execute_result"
    }
   ],
   "source": [
    "pca.explained_variance_ratio_\n",
    "#Ratio of variance explained\n",
    "#PC1 : 70.9%, PC2: 28.6%\n",
    "#Total: 99.5%"
   ]
  },
  {
   "cell_type": "code",
   "execution_count": 27,
   "metadata": {},
   "outputs": [
    {
     "name": "stdout",
     "output_type": "stream",
     "text": [
      "학습 accuacy = 0.97, 검증 accuacy = 0.98\n",
      "학습 accuacy = 0.97, 검증 accuacy = 0.97\n",
      "학습 accuacy = 0.98, 검증 accuacy = 0.95\n",
      "학습 accuacy = 0.97, 검증 accuacy = 0.97\n",
      "학습 accuacy = 0.97, 검증 accuacy = 0.97\n",
      "평균 train accuacy : 0.97\n",
      "평균 test accuacy : 0.97\n"
     ]
    }
   ],
   "source": [
    "fivefold(X_pca,y,svm_clf)\n",
    "#성능에서 큰 차이 없음"
   ]
  },
  {
   "cell_type": "markdown",
   "metadata": {},
   "source": [
    "### 실험 : 쓸모없는 feature 가 있는가?"
   ]
  },
  {
   "cell_type": "code",
   "execution_count": 28,
   "metadata": {},
   "outputs": [
    {
     "data": {
      "text/plain": [
       "Index(['Auction_class', 'Bid_class', 'Claim_price', 'Appraisal_date',\n",
       "       'Auction_count', 'Auction_miscarriage_count', 'Total_land_gross_area',\n",
       "       'Total_land_real_area', 'Total_land_auction_area',\n",
       "       'Total_building_area', 'Total_building_auction_area',\n",
       "       'Total_appraisal_price', 'Minimum_sales_price', 'First_auction_date',\n",
       "       'Final_auction_date', 'addr_do', 'Apartment_usage',\n",
       "       'Preserve_regist_date', 'Total_floor', 'Current_floor',\n",
       "       'Share_auction_YorN', 'Close_date', 'Close_result', 'point.y',\n",
       "       'point.x'],\n",
       "      dtype='object')"
      ]
     },
     "execution_count": 28,
     "metadata": {},
     "output_type": "execute_result"
    }
   ],
   "source": [
    "X.columns"
   ]
  },
  {
   "cell_type": "code",
   "execution_count": 29,
   "metadata": {},
   "outputs": [
    {
     "data": {
      "text/plain": [
       "['Appraisal_date',\n",
       " 'First_auction_date',\n",
       " 'Final_auction_date',\n",
       " 'Preserve_regist_date',\n",
       " 'Close_date']"
      ]
     },
     "execution_count": 29,
     "metadata": {},
     "output_type": "execute_result"
    }
   ],
   "source": [
    "#날짜 변수 제거\n",
    "trial_var1 = [i for i in list(X.columns) if 'date' in i]\n",
    "trial_var1"
   ]
  },
  {
   "cell_type": "code",
   "execution_count": 30,
   "metadata": {},
   "outputs": [],
   "source": [
    "X_trial1 = X.drop(trial_var1, axis=1)"
   ]
  },
  {
   "cell_type": "code",
   "execution_count": 31,
   "metadata": {},
   "outputs": [
    {
     "name": "stdout",
     "output_type": "stream",
     "text": [
      "학습 accuacy = 0.97, 검증 accuacy = 0.98\n",
      "학습 accuacy = 0.97, 검증 accuacy = 0.97\n",
      "학습 accuacy = 0.97, 검증 accuacy = 0.95\n",
      "학습 accuacy = 0.97, 검증 accuacy = 0.95\n",
      "학습 accuacy = 0.97, 검증 accuacy = 0.96\n",
      "평균 train accuacy : 0.97\n",
      "평균 test accuacy : 0.96\n"
     ]
    }
   ],
   "source": [
    "fivefold(X_trial1,y,svm_clf)"
   ]
  },
  {
   "cell_type": "code",
   "execution_count": 32,
   "metadata": {},
   "outputs": [
    {
     "data": {
      "text/plain": [
       "['Auction_class',\n",
       " 'Bid_class',\n",
       " 'addr_do',\n",
       " 'Apartment_usage',\n",
       " 'Share_auction_YorN',\n",
       " 'Close_result']"
      ]
     },
     "execution_count": 32,
     "metadata": {},
     "output_type": "execute_result"
    }
   ],
   "source": [
    "#범주형 변수 제거 \n",
    "trial_var2 = [i for i in list(categorical_col)]\n",
    "trial_var2"
   ]
  },
  {
   "cell_type": "code",
   "execution_count": 33,
   "metadata": {},
   "outputs": [],
   "source": [
    "X_trial2 = X.drop(trial_var2, axis=1)"
   ]
  },
  {
   "cell_type": "code",
   "execution_count": 34,
   "metadata": {},
   "outputs": [
    {
     "name": "stdout",
     "output_type": "stream",
     "text": [
      "학습 accuacy = 0.96, 검증 accuacy = 0.97\n",
      "학습 accuacy = 0.97, 검증 accuacy = 0.97\n",
      "학습 accuacy = 0.97, 검증 accuacy = 0.95\n",
      "학습 accuacy = 0.97, 검증 accuacy = 0.96\n",
      "학습 accuacy = 0.97, 검증 accuacy = 0.96\n",
      "평균 train accuacy : 0.97\n",
      "평균 test accuacy : 0.96\n"
     ]
    }
   ],
   "source": [
    "fivefold(X_trial2,y,svm_clf)"
   ]
  },
  {
   "cell_type": "code",
   "execution_count": 35,
   "metadata": {},
   "outputs": [],
   "source": [
    "#토지 크기에 대한 변수 제거"
   ]
  },
  {
   "cell_type": "code",
   "execution_count": 36,
   "metadata": {},
   "outputs": [
    {
     "data": {
      "text/plain": [
       "['Total_land_gross_area',\n",
       " 'Total_land_real_area',\n",
       " 'Total_land_auction_area',\n",
       " 'Total_building_area',\n",
       " 'Total_building_auction_area']"
      ]
     },
     "execution_count": 36,
     "metadata": {},
     "output_type": "execute_result"
    }
   ],
   "source": [
    "trial_var4 = [i for i in list(X.columns) if 'area' in i]\n",
    "trial_var4"
   ]
  },
  {
   "cell_type": "code",
   "execution_count": 37,
   "metadata": {},
   "outputs": [
    {
     "name": "stdout",
     "output_type": "stream",
     "text": [
      "학습 accuacy = 0.97, 검증 accuacy = 0.97\n",
      "학습 accuacy = 0.97, 검증 accuacy = 0.97\n",
      "학습 accuacy = 0.97, 검증 accuacy = 0.95\n",
      "학습 accuacy = 0.97, 검증 accuacy = 0.97\n",
      "학습 accuacy = 0.97, 검증 accuacy = 0.97\n",
      "평균 train accuacy : 0.97\n",
      "평균 test accuacy : 0.97\n"
     ]
    }
   ],
   "source": [
    "X_trial4 = X.drop(trial_var4,axis =1)\n",
    "fivefold(X_trial4,y,svm_clf)"
   ]
  },
  {
   "cell_type": "code",
   "execution_count": 38,
   "metadata": {},
   "outputs": [],
   "source": [
    "#가격에 대한 변수 제거"
   ]
  },
  {
   "cell_type": "code",
   "execution_count": 39,
   "metadata": {},
   "outputs": [
    {
     "data": {
      "text/plain": [
       "['Claim_price', 'Total_appraisal_price', 'Minimum_sales_price']"
      ]
     },
     "execution_count": 39,
     "metadata": {},
     "output_type": "execute_result"
    }
   ],
   "source": [
    "trial_var3 = [i for i in list(X.columns) if 'price' in i]\n",
    "trial_var3"
   ]
  },
  {
   "cell_type": "code",
   "execution_count": 40,
   "metadata": {},
   "outputs": [],
   "source": [
    "X_trial3 = X.drop(trial_var3, axis =1)"
   ]
  },
  {
   "cell_type": "code",
   "execution_count": 41,
   "metadata": {
    "scrolled": true
   },
   "outputs": [
    {
     "name": "stdout",
     "output_type": "stream",
     "text": [
      "학습 accuacy = 0.87, 검증 accuacy = 0.93\n",
      "학습 accuacy = 0.88, 검증 accuacy = 0.90\n",
      "학습 accuacy = 0.89, 검증 accuacy = 0.85\n",
      "학습 accuacy = 0.89, 검증 accuacy = 0.86\n",
      "학습 accuacy = 0.90, 검증 accuacy = 0.85\n",
      "평균 train accuacy : 0.89\n",
      "평균 test accuacy : 0.88\n"
     ]
    }
   ],
   "source": [
    "fivefold(X_trial3,y,svm_clf)"
   ]
  },
  {
   "cell_type": "code",
   "execution_count": 42,
   "metadata": {},
   "outputs": [],
   "source": [
    "#토지/가격 모두 제거\n",
    "X_last = X.drop(trial_var3 +trial_var4, axis =1)"
   ]
  },
  {
   "cell_type": "code",
   "execution_count": 43,
   "metadata": {},
   "outputs": [
    {
     "name": "stdout",
     "output_type": "stream",
     "text": [
      "학습 accuacy = 0.75, 검증 accuacy = 0.85\n",
      "학습 accuacy = 0.74, 검증 accuacy = 0.84\n",
      "학습 accuacy = 0.79, 검증 accuacy = 0.67\n",
      "학습 accuacy = 0.78, 검증 accuacy = 0.73\n",
      "학습 accuacy = 0.78, 검증 accuacy = 0.72\n",
      "평균 train accuacy : 0.77\n",
      "평균 test accuacy : 0.76\n"
     ]
    }
   ],
   "source": [
    "fivefold(X_last,y,svm_clf)"
   ]
  },
  {
   "cell_type": "markdown",
   "metadata": {},
   "source": [
    "#### Point 1\n",
    "- 날짜/볌주형/토지 크기 관련 변수를 제거했을때는 성능에 아무런 영향이 없었지만 예상했던 대로 가격에 관한 변수를 제거했을때 모델 성능이 크게 떨어졌습니다. \n"
   ]
  },
  {
   "cell_type": "markdown",
   "metadata": {},
   "source": [
    "#### Point 2\n",
    "- 이는 Linear Regression 을 에서 보았듯이 최저매각가격 (Minimum_sales_price) , 총감정가 (Total_appraisal_price) 가 경매가에 가장 큰 영향을 주는 것을 알 수 있습니다.\n"
   ]
  },
  {
   "cell_type": "markdown",
   "metadata": {},
   "source": [
    "#### Point 3\n",
    "- 흥미롭게도 토지 크기량과 가격에 대한 변수를 모두 제거 했을때 가격만 제거했을때보다 성능이 급격히 감소했습니다. 이를 통해서 토지-가격 변수가 상호작용하는 무언가가 있음을 알 수 있습니다."
   ]
  },
  {
   "cell_type": "markdown",
   "metadata": {},
   "source": [
    "## Fine-tuning : Grid Search"
   ]
  },
  {
   "cell_type": "code",
   "execution_count": 44,
   "metadata": {},
   "outputs": [],
   "source": [
    "tuned_parameters = [{'kernel': ['rbf'], 'gamma': [1e-3, 1e-4],\n",
    "                     'C': [1, 10, 100, 1000]},\n",
    "                    {'kernel': ['linear'], 'C': [1, 10, 100, 1000]}]\n",
    "\n",
    "scores = ['precision', 'recall']"
   ]
  },
  {
   "cell_type": "code",
   "execution_count": 45,
   "metadata": {},
   "outputs": [],
   "source": [
    "from sklearn.preprocessing import MinMaxScaler\n",
    "scaler = MinMaxScaler()\n",
    "X_scaled = scaler.fit_transform(X_pca)"
   ]
  },
  {
   "cell_type": "code",
   "execution_count": 46,
   "metadata": {},
   "outputs": [],
   "source": [
    "from __future__ import print_function\n",
    "from sklearn.model_selection import RandomizedSearchCV\n",
    "from sklearn.model_selection import GridSearchCV\n",
    "from sklearn.metrics import classification_report\n",
    "from sklearn.svm import SVC\n",
    "from datetime import datetime\n"
   ]
  },
  {
   "cell_type": "code",
   "execution_count": 47,
   "metadata": {},
   "outputs": [],
   "source": [
    "#Hyperparameter Initialization\n",
    "tuned_parameters = [{'kernel': ['rbf'], 'gamma': [1e-3, 1e-4],\n",
    "                     'C': [1, 10, 100, 1000]},\n",
    "                    {'kernel': ['linear'], 'C': [1, 10, 100, 1000]}]\n",
    "\n",
    "scores = ['precision', 'recall']\n",
    "clf_type = SVC()"
   ]
  },
  {
   "cell_type": "code",
   "execution_count": 48,
   "metadata": {},
   "outputs": [],
   "source": [
    "#function for gridsearch\n",
    "def grid_search(X,y,clf_type = clf_type,scores=['precision','recall'],tuned_parameters=tuned_parameters):\n",
    "    start_time = datetime.now()\n",
    "\n",
    "    #Reference : Sci-kit documentation\n",
    "    #위 레퍼런스와 stackoverflow를 참고했습니다.\n",
    "\n",
    "    for score in scores:\n",
    "        print(\"# Tuning hyper-parameters for %s\" % score)\n",
    "        print()\n",
    "\n",
    "        clf = GridSearchCV(clf_type, tuned_parameters, cv=5, n_jobs=4,\n",
    "                           scoring='%s_macro' % score)\n",
    "        clf.fit(X, y)\n",
    "\n",
    "        print(\"Best parameters set found on development set:\")\n",
    "        print()\n",
    "        print(clf.best_params_)\n",
    "        print()\n",
    "        print(\"Grid scores on development set:\")\n",
    "        print()\n",
    "        means = clf.cv_results_['mean_test_score']\n",
    "        stds = clf.cv_results_['std_test_score']\n",
    "        for mean, std, params in zip(means, stds, clf.cv_results_['params']):\n",
    "            print(\"%0.3f (+/-%0.03f) for %r\"\n",
    "                  % (mean, std * 2, params))\n",
    "        print()\n",
    "\n",
    "        print(\"Detailed classification report:\")\n",
    "        print()\n",
    "        print(\"The model is trained on the full development set.\")\n",
    "        print(\"The scores are computed on the full evaluation set.\")\n",
    "        print()\n",
    "        y_true, y_pred = y, clf.predict(X)\n",
    "        print(classification_report(y_true, y_pred))\n",
    "        print()\n",
    "\n",
    "    end_time = datetime.now()\n",
    "    print('\\n\\n\\nDuration:{}'.format(end_time-start_time))"
   ]
  },
  {
   "cell_type": "code",
   "execution_count": 49,
   "metadata": {},
   "outputs": [
    {
     "name": "stdout",
     "output_type": "stream",
     "text": [
      "# Tuning hyper-parameters for precision\n",
      "\n",
      "Best parameters set found on development set:\n",
      "\n",
      "{'C': 1000, 'kernel': 'linear'}\n",
      "\n",
      "Grid scores on development set:\n",
      "\n",
      "0.250 (+/-0.001) for {'C': 1, 'gamma': 0.001, 'kernel': 'rbf'}\n",
      "0.250 (+/-0.001) for {'C': 1, 'gamma': 0.0001, 'kernel': 'rbf'}\n",
      "0.250 (+/-0.001) for {'C': 10, 'gamma': 0.001, 'kernel': 'rbf'}\n",
      "0.250 (+/-0.001) for {'C': 10, 'gamma': 0.0001, 'kernel': 'rbf'}\n",
      "0.509 (+/-0.431) for {'C': 100, 'gamma': 0.001, 'kernel': 'rbf'}\n",
      "0.250 (+/-0.001) for {'C': 100, 'gamma': 0.0001, 'kernel': 'rbf'}\n",
      "0.789 (+/-0.014) for {'C': 1000, 'gamma': 0.001, 'kernel': 'rbf'}\n",
      "0.509 (+/-0.431) for {'C': 1000, 'gamma': 0.0001, 'kernel': 'rbf'}\n",
      "0.761 (+/-0.009) for {'C': 1, 'kernel': 'linear'}\n",
      "0.871 (+/-0.033) for {'C': 10, 'kernel': 'linear'}\n",
      "0.959 (+/-0.037) for {'C': 100, 'kernel': 'linear'}\n",
      "0.963 (+/-0.017) for {'C': 1000, 'kernel': 'linear'}\n",
      "\n",
      "Detailed classification report:\n",
      "\n",
      "The model is trained on the full development set.\n",
      "The scores are computed on the full evaluation set.\n",
      "\n",
      "              precision    recall  f1-score   support\n",
      "\n",
      "         0.0       0.97      0.97      0.97       966\n",
      "         1.0       0.97      0.96      0.97       967\n",
      "\n",
      "   micro avg       0.97      0.97      0.97      1933\n",
      "   macro avg       0.97      0.97      0.97      1933\n",
      "weighted avg       0.97      0.97      0.97      1933\n",
      "\n",
      "\n",
      "# Tuning hyper-parameters for recall\n",
      "\n",
      "Best parameters set found on development set:\n",
      "\n",
      "{'C': 1000, 'kernel': 'linear'}\n",
      "\n",
      "Grid scores on development set:\n",
      "\n",
      "0.500 (+/-0.000) for {'C': 1, 'gamma': 0.001, 'kernel': 'rbf'}\n",
      "0.500 (+/-0.000) for {'C': 1, 'gamma': 0.0001, 'kernel': 'rbf'}\n",
      "0.500 (+/-0.000) for {'C': 10, 'gamma': 0.001, 'kernel': 'rbf'}\n",
      "0.500 (+/-0.000) for {'C': 10, 'gamma': 0.0001, 'kernel': 'rbf'}\n",
      "0.504 (+/-0.008) for {'C': 100, 'gamma': 0.001, 'kernel': 'rbf'}\n",
      "0.500 (+/-0.000) for {'C': 100, 'gamma': 0.0001, 'kernel': 'rbf'}\n",
      "0.642 (+/-0.056) for {'C': 1000, 'gamma': 0.001, 'kernel': 'rbf'}\n",
      "0.504 (+/-0.008) for {'C': 1000, 'gamma': 0.0001, 'kernel': 'rbf'}\n",
      "0.564 (+/-0.038) for {'C': 1, 'kernel': 'linear'}\n",
      "0.831 (+/-0.072) for {'C': 10, 'kernel': 'linear'}\n",
      "0.954 (+/-0.048) for {'C': 100, 'kernel': 'linear'}\n",
      "0.961 (+/-0.020) for {'C': 1000, 'kernel': 'linear'}\n",
      "\n",
      "Detailed classification report:\n",
      "\n",
      "The model is trained on the full development set.\n",
      "The scores are computed on the full evaluation set.\n",
      "\n",
      "              precision    recall  f1-score   support\n",
      "\n",
      "         0.0       0.97      0.97      0.97       966\n",
      "         1.0       0.97      0.96      0.97       967\n",
      "\n",
      "   micro avg       0.97      0.97      0.97      1933\n",
      "   macro avg       0.97      0.97      0.97      1933\n",
      "weighted avg       0.97      0.97      0.97      1933\n",
      "\n",
      "\n",
      "\n",
      "\n",
      "\n",
      "Duration:0:00:03.720085\n"
     ]
    }
   ],
   "source": [
    "grid_search(X_scaled,y)"
   ]
  },
  {
   "cell_type": "markdown",
   "metadata": {},
   "source": [
    "#### 결론:\n",
    " - 실험환경: \n",
    "     Kernel: 'linear', 'rbf'\n",
    "     C: '1-1000'\n",
    "     gamma: '0.0001 - 0.001'\n",
    " - Precision 과 recall 에서 모두 {'C': 1000, 'kernel': 'linear'} 의 성능이 가장 우수했습니다."
   ]
  },
  {
   "cell_type": "markdown",
   "metadata": {},
   "source": [
    "# KNN"
   ]
  },
  {
   "cell_type": "code",
   "execution_count": 50,
   "metadata": {},
   "outputs": [],
   "source": [
    "from sklearn.neighbors import KNeighborsClassifier  "
   ]
  },
  {
   "cell_type": "code",
   "execution_count": 51,
   "metadata": {},
   "outputs": [],
   "source": [
    "knn_clf = KNeighborsClassifier(n_neighbors=3)\n",
    "knn_clf.fit(X_scaled,y)\n",
    "knn_y_pred = knn_clf.predict(X_scaled)"
   ]
  },
  {
   "cell_type": "code",
   "execution_count": 52,
   "metadata": {
    "scrolled": false
   },
   "outputs": [
    {
     "name": "stdout",
     "output_type": "stream",
     "text": [
      "              precision    recall  f1-score   support\n",
      "\n",
      "         0.0       0.98      0.97      0.97       966\n",
      "         1.0       0.97      0.98      0.97       967\n",
      "\n",
      "   micro avg       0.97      0.97      0.97      1933\n",
      "   macro avg       0.97      0.97      0.97      1933\n",
      "weighted avg       0.97      0.97      0.97      1933\n",
      "\n"
     ]
    }
   ],
   "source": [
    "print(classification_report(y,knn_y_pred))"
   ]
  },
  {
   "cell_type": "markdown",
   "metadata": {},
   "source": [
    "### Visualization"
   ]
  },
  {
   "cell_type": "code",
   "execution_count": 53,
   "metadata": {},
   "outputs": [],
   "source": [
    "import matplotlib.pyplot as plt\n",
    "import pylab as pl\n",
    "import seaborn as sns\n",
    "import matplotlib\n",
    "%matplotlib inline"
   ]
  },
  {
   "cell_type": "code",
   "execution_count": 54,
   "metadata": {},
   "outputs": [],
   "source": [
    "h=0.001\n",
    "\n",
    "x_min = X_scaled[:,0].min() - 0.5\n",
    "x_max = X_scaled[:,0].max() + 0.5\n",
    "y_min = X_scaled[:,1].min() - 0.5\n",
    "y_max = X_scaled[:,1].max() + 0.5\n",
    "xx, yy = np.meshgrid(np.arange(x_min, x_max, h), np.arange(y_min, y_max, h))\n",
    "Z = knn_clf.predict(np.c_[xx.ravel(), yy.ravel()])"
   ]
  },
  {
   "cell_type": "code",
   "execution_count": 55,
   "metadata": {},
   "outputs": [
    {
     "data": {
      "image/png": "[encoded data removed]",
      "text/plain": [
       "<Figure size 288x216 with 1 Axes>"
      ]
     },
     "metadata": {},
     "output_type": "display_data"
    },
    {
     "data": {
      "text/plain": [
       "<Figure size 2160x1080 with 0 Axes>"
      ]
     },
     "metadata": {},
     "output_type": "display_data"
    }
   ],
   "source": [
    "\n",
    "Z = Z.reshape(xx.shape)\n",
    "pl.figure(1, figsize=(4, 3))\n",
    "pl.set_cmap(pl.cm.Paired)\n",
    "pl.pcolormesh(xx, yy, Z,cmap='RdBu_r')\n",
    "matplotlib.rcParams['lines.markersize'] = 5\n",
    "pl.scatter(X_scaled[:,0], X_scaled[:,1],c=y,marker=\"o\",edgecolors='none',alpha=0.6 )\n",
    "pl.xlabel('PC1')\n",
    "pl.ylabel('PC2')\n",
    "\n",
    "pl.xlim(X_scaled[:,0].min()-0.05, 0.23) #데이터가 집중적으로 모인 지점으로 포커스\n",
    "pl.ylim(X_scaled[:,1].min()+0.1, 0.4)\n",
    "pl.xticks(())\n",
    "pl.yticks(())\n",
    "pl.figure(figsize=(30,15))\n",
    "pl.show()"
   ]
  },
  {
   "cell_type": "markdown",
   "metadata": {},
   "source": [
    "## Fine-tuning: Grid Search"
   ]
  },
  {
   "cell_type": "code",
   "execution_count": 56,
   "metadata": {
    "scrolled": true
   },
   "outputs": [
    {
     "name": "stdout",
     "output_type": "stream",
     "text": [
      "# Tuning hyper-parameters for precision\n",
      "\n",
      "Best parameters set found on development set:\n",
      "\n",
      "{'n_neighbors': 5}\n",
      "\n",
      "Grid scores on development set:\n",
      "\n",
      "0.953 (+/-0.026) for {'n_neighbors': 1}\n",
      "0.962 (+/-0.016) for {'n_neighbors': 3}\n",
      "0.962 (+/-0.025) for {'n_neighbors': 5}\n",
      "0.961 (+/-0.021) for {'n_neighbors': 7}\n",
      "0.961 (+/-0.025) for {'n_neighbors': 9}\n",
      "\n",
      "Detailed classification report:\n",
      "\n",
      "The model is trained on the full development set.\n",
      "The scores are computed on the full evaluation set.\n",
      "\n",
      "              precision    recall  f1-score   support\n",
      "\n",
      "         0.0       0.98      0.97      0.97       966\n",
      "         1.0       0.97      0.98      0.97       967\n",
      "\n",
      "   micro avg       0.97      0.97      0.97      1933\n",
      "   macro avg       0.97      0.97      0.97      1933\n",
      "weighted avg       0.97      0.97      0.97      1933\n",
      "\n",
      "\n",
      "# Tuning hyper-parameters for recall\n",
      "\n",
      "Best parameters set found on development set:\n",
      "\n",
      "{'n_neighbors': 3}\n",
      "\n",
      "Grid scores on development set:\n",
      "\n",
      "0.951 (+/-0.030) for {'n_neighbors': 1}\n",
      "0.960 (+/-0.018) for {'n_neighbors': 3}\n",
      "0.960 (+/-0.028) for {'n_neighbors': 5}\n",
      "0.959 (+/-0.024) for {'n_neighbors': 7}\n",
      "0.959 (+/-0.027) for {'n_neighbors': 9}\n",
      "\n",
      "Detailed classification report:\n",
      "\n",
      "The model is trained on the full development set.\n",
      "The scores are computed on the full evaluation set.\n",
      "\n",
      "              precision    recall  f1-score   support\n",
      "\n",
      "         0.0       0.98      0.97      0.97       966\n",
      "         1.0       0.97      0.98      0.97       967\n",
      "\n",
      "   micro avg       0.97      0.97      0.97      1933\n",
      "   macro avg       0.97      0.97      0.97      1933\n",
      "weighted avg       0.97      0.97      0.97      1933\n",
      "\n",
      "\n",
      "\n",
      "\n",
      "\n",
      "Duration:0:00:00.297235\n"
     ]
    }
   ],
   "source": [
    "tuned_parameters = {'n_neighbors': [1,3,5,7,9]}\n",
    "grid_search(X_scaled,y,knn_clf,tuned_parameters=tuned_parameters)"
   ]
  },
  {
   "cell_type": "markdown",
   "metadata": {},
   "source": [
    "#### 결론:\n",
    " - Precision 이 가장 우수한 것은 n = 5\n",
    " - Recall 이 가장 우수한 것은 n = 3\n",
    " - 끝점이(n = 9) 아님을 확인했으므로 그리드서치를 종료한다. "
   ]
  },
  {
   "cell_type": "markdown",
   "metadata": {},
   "source": [
    "# Naive Bayes"
   ]
  },
  {
   "cell_type": "markdown",
   "metadata": {},
   "source": [
    "## Feature Selection :\n",
    " - Mutual info regression 을 통해 변수간 독립성을 확인\n",
    " - Mutual info 는 양수값을 가지며 독립일때 0을 가짐\n",
    " - Reference : https://scikit-learn.org/stable/modules/generated/sklearn.feature_selection.mutual_info_regression.html"
   ]
  },
  {
   "cell_type": "code",
   "execution_count": 57,
   "metadata": {},
   "outputs": [],
   "source": [
    "from sklearn.feature_selection import mutual_info_regression"
   ]
  },
  {
   "cell_type": "code",
   "execution_count": 58,
   "metadata": {},
   "outputs": [
    {
     "data": {
      "text/plain": [
       "Index(['Auction_class', 'Bid_class', 'Claim_price', 'Appraisal_date',\n",
       "       'Auction_count', 'Auction_miscarriage_count', 'Total_land_gross_area',\n",
       "       'Total_land_real_area', 'Total_land_auction_area',\n",
       "       'Total_building_area', 'Total_building_auction_area',\n",
       "       'Total_appraisal_price', 'Minimum_sales_price', 'First_auction_date',\n",
       "       'Final_auction_date', 'addr_do', 'Apartment_usage',\n",
       "       'Preserve_regist_date', 'Total_floor', 'Current_floor',\n",
       "       'Share_auction_YorN', 'Close_date', 'Close_result', 'point.y',\n",
       "       'point.x'],\n",
       "      dtype='object')"
      ]
     },
     "execution_count": 58,
     "metadata": {},
     "output_type": "execute_result"
    }
   ],
   "source": [
    "X.columns"
   ]
  },
  {
   "cell_type": "code",
   "execution_count": 62,
   "metadata": {},
   "outputs": [
    {
     "name": "stdout",
     "output_type": "stream",
     "text": [
      "[5.79409178]\n"
     ]
    }
   ],
   "source": [
    "#turn off warnings\n",
    "import warnings\n",
    "warnings.filterwarnings('ignore')\n",
    "\n",
    "\n",
    "x1 = X['Total_land_auction_area'].values.reshape(-1,1)\n",
    "x2 = X['Total_land_real_area'].values.reshape(-1,1)\n",
    "print(mutual_info_regression(x1,x2))"
   ]
  },
  {
   "cell_type": "code",
   "execution_count": 63,
   "metadata": {},
   "outputs": [
    {
     "name": "stdout",
     "output_type": "stream",
     "text": [
      "[5.55141937]\n"
     ]
    }
   ],
   "source": [
    "x1 = X['Total_building_auction_area'].values.reshape(-1,1)\n",
    "x2 = X['Total_building_area'].values.reshape(-1,1)\n",
    "print(mutual_info_regression(x1,x2))"
   ]
  },
  {
   "cell_type": "code",
   "execution_count": 64,
   "metadata": {},
   "outputs": [
    {
     "name": "stdout",
     "output_type": "stream",
     "text": [
      "[0.43227327]\n"
     ]
    }
   ],
   "source": [
    "x1 = X['Total_appraisal_price'].values.reshape(-1,1)\n",
    "x2 = X['Minimum_sales_price'].values.reshape(-1,1)\n",
    "print(mutual_info_regression(x1,x2))"
   ]
  },
  {
   "cell_type": "markdown",
   "metadata": {},
   "source": [
    "#### 모든 변수들간의 Mutual info (MI) 을 반환하는 함수:\n",
    " - 상관계수가 높은 (0.98) 'Total_appraisal_price' 와 'Minimum_sales_price' 의 MI 를 threshold 로 설정해 변수를 삭제했습니다."
   ]
  },
  {
   "cell_type": "code",
   "execution_count": 65,
   "metadata": {},
   "outputs": [],
   "source": [
    "def check_dependence(columns, threshold):\n",
    "    output = []\n",
    "    for idx,col1 in enumerate(columns):\n",
    "        x1 = X[col1].values.reshape(-1,1)\n",
    "        for col2 in columns[idx+1:]:\n",
    "            x2 = X[col2].values.reshape(-1,1)\n",
    "            info = float(mutual_info_regression(x1,x2))\n",
    "            if info > threshold:\n",
    "                output.append([col1,col2,info])\n",
    "    return output"
   ]
  },
  {
   "cell_type": "code",
   "execution_count": 66,
   "metadata": {},
   "outputs": [
    {
     "data": {
      "text/plain": [
       "[['Appraisal_date', 'First_auction_date', 1.3785470507311075],\n",
       " ['Appraisal_date', 'Final_auction_date', 1.0182258417462147],\n",
       " ['Appraisal_date', 'Close_date', 0.9596571900235391],\n",
       " ['Auction_count', 'Auction_miscarriage_count', 0.8727769112419308],\n",
       " ['Total_land_gross_area', 'Total_land_real_area', 0.48507985135577236],\n",
       " ['Total_land_gross_area', 'Total_land_auction_area', 0.45368358026876177],\n",
       " ['Total_land_gross_area', 'Preserve_regist_date', 0.8698276437079304],\n",
       " ['Total_land_gross_area', 'Total_floor', 0.532205816363418],\n",
       " ['Total_land_gross_area', 'point.y', 0.8478602986706427],\n",
       " ['Total_land_gross_area', 'point.x', 0.8256500458078286],\n",
       " ['Total_land_real_area', 'Total_land_auction_area', 5.795998418006219],\n",
       " ['Total_land_real_area', 'Total_building_area', 0.678320694668348],\n",
       " ['Total_land_real_area', 'Total_building_auction_area', 0.6226462188894706],\n",
       " ['Total_land_auction_area', 'Total_building_area', 0.6297090488434209],\n",
       " ['Total_land_auction_area',\n",
       "  'Total_building_auction_area',\n",
       "  0.7054824660216665],\n",
       " ['Total_building_area', 'Total_building_auction_area', 5.543889912559893],\n",
       " ['Total_building_area', 'Total_appraisal_price', 0.5326930940126173],\n",
       " ['Total_building_area', 'Minimum_sales_price', 0.45304395929015584],\n",
       " ['Total_building_area', 'Preserve_regist_date', 0.4475704734840349],\n",
       " ['Total_building_auction_area', 'Total_appraisal_price', 0.5861655713323581],\n",
       " ['Total_building_auction_area', 'Minimum_sales_price', 0.49902115998341356],\n",
       " ['Total_building_auction_area', 'Preserve_regist_date', 0.401839883066879],\n",
       " ['Total_appraisal_price', 'Minimum_sales_price', 0.4212487940688112],\n",
       " ['First_auction_date', 'Final_auction_date', 2.9137684597662954],\n",
       " ['First_auction_date', 'Close_date', 1.6992096849018958],\n",
       " ['Final_auction_date', 'Close_date', 2.7933430718492094],\n",
       " ['addr_do', 'point.y', 0.6519826360943424],\n",
       " ['addr_do', 'point.x', 0.6522122099136474],\n",
       " ['Preserve_regist_date', 'Total_floor', 0.5905833200013433],\n",
       " ['Preserve_regist_date', 'point.y', 0.874571254349962],\n",
       " ['Preserve_regist_date', 'point.x', 0.878607415664233],\n",
       " ['point.y', 'point.x', 1.8985439640894266]]"
      ]
     },
     "execution_count": 66,
     "metadata": {},
     "output_type": "execute_result"
    }
   ],
   "source": [
    "warnings.filterwarnings('ignore')\n",
    "\n",
    "output = check_dependence(list(X.columns),0.4)\n",
    "output"
   ]
  },
  {
   "cell_type": "code",
   "execution_count": 67,
   "metadata": {},
   "outputs": [
    {
     "data": {
      "text/plain": [
       "['Appraisal_date',\n",
       " 'Appraisal_date',\n",
       " 'Appraisal_date',\n",
       " 'Auction_count',\n",
       " 'Total_land_gross_area',\n",
       " 'Total_land_gross_area',\n",
       " 'Total_land_gross_area',\n",
       " 'Total_land_gross_area',\n",
       " 'Total_land_gross_area',\n",
       " 'Total_land_gross_area',\n",
       " 'Total_land_real_area',\n",
       " 'Total_land_real_area',\n",
       " 'Total_land_real_area',\n",
       " 'Total_land_auction_area',\n",
       " 'Total_land_auction_area',\n",
       " 'Total_building_area',\n",
       " 'Total_building_area',\n",
       " 'Total_building_area',\n",
       " 'Total_building_area',\n",
       " 'Total_building_auction_area',\n",
       " 'Total_building_auction_area',\n",
       " 'Total_building_auction_area',\n",
       " 'Total_appraisal_price',\n",
       " 'First_auction_date',\n",
       " 'First_auction_date',\n",
       " 'Final_auction_date',\n",
       " 'addr_do',\n",
       " 'addr_do',\n",
       " 'Preserve_regist_date',\n",
       " 'Preserve_regist_date',\n",
       " 'Preserve_regist_date',\n",
       " 'point.y']"
      ]
     },
     "execution_count": 67,
     "metadata": {},
     "output_type": "execute_result"
    }
   ],
   "source": [
    "del_list = [i[0] for i in output]\n",
    "del_list"
   ]
  },
  {
   "cell_type": "code",
   "execution_count": 68,
   "metadata": {},
   "outputs": [
    {
     "data": {
      "text/plain": [
       "Index(['Auction_class', 'Bid_class', 'Claim_price',\n",
       "       'Auction_miscarriage_count', 'Minimum_sales_price', 'Apartment_usage',\n",
       "       'Total_floor', 'Current_floor', 'Share_auction_YorN', 'Close_date',\n",
       "       'Close_result', 'point.x'],\n",
       "      dtype='object')"
      ]
     },
     "execution_count": 68,
     "metadata": {},
     "output_type": "execute_result"
    }
   ],
   "source": [
    "X_independent = X.drop(del_list,axis = 1)\n",
    "X_independent.columns"
   ]
  },
  {
   "cell_type": "code",
   "execution_count": 69,
   "metadata": {},
   "outputs": [],
   "source": [
    "X_independent = scaler.fit_transform(X_independent)"
   ]
  },
  {
   "cell_type": "code",
   "execution_count": 70,
   "metadata": {},
   "outputs": [],
   "source": [
    "X_nb = scaler.fit_transform(X)"
   ]
  },
  {
   "cell_type": "markdown",
   "metadata": {},
   "source": [
    "## Model"
   ]
  },
  {
   "cell_type": "code",
   "execution_count": 71,
   "metadata": {},
   "outputs": [],
   "source": [
    "from sklearn.naive_bayes import GaussianNB"
   ]
  },
  {
   "cell_type": "code",
   "execution_count": 72,
   "metadata": {},
   "outputs": [],
   "source": [
    "nb_clf = GaussianNB()\n",
    "nb_clf.fit(X_nb, y)\n",
    "y_pred = nb_clf.predict(X_nb)"
   ]
  },
  {
   "cell_type": "markdown",
   "metadata": {},
   "source": [
    "#### 초기 모델 : 모든 데이터 사용"
   ]
  },
  {
   "cell_type": "code",
   "execution_count": 73,
   "metadata": {},
   "outputs": [
    {
     "name": "stdout",
     "output_type": "stream",
     "text": [
      "Accuracy of initial model without preprocessing: 0.859\n"
     ]
    }
   ],
   "source": [
    "print('Accuracy of initial model without preprocessing: %.3f' %accuracy_score(y,y_pred))"
   ]
  },
  {
   "cell_type": "markdown",
   "metadata": {},
   "source": [
    "#### MI 값을 통해 독립성이 확인되지 않은 변수 제거"
   ]
  },
  {
   "cell_type": "code",
   "execution_count": 74,
   "metadata": {},
   "outputs": [
    {
     "name": "stdout",
     "output_type": "stream",
     "text": [
      "Accuracy of model with preprocessing: 0.919\n"
     ]
    }
   ],
   "source": [
    "nb_clf.fit(X_independent,y)\n",
    "print('Accuracy of model with preprocessing: %.3f' %accuracy_score(y,nb_clf.predict(X_independent)))"
   ]
  },
  {
   "cell_type": "markdown",
   "metadata": {},
   "source": [
    "#### PCA 를 통해 차원축소된 변수"
   ]
  },
  {
   "cell_type": "code",
   "execution_count": 75,
   "metadata": {},
   "outputs": [
    {
     "name": "stdout",
     "output_type": "stream",
     "text": [
      "Accuracy of model with sacled X_pca: 0.667\n"
     ]
    }
   ],
   "source": [
    "nb_clf.fit(X_scaled,y)\n",
    "print('Accuracy of model with sacled X_pca: %.3f' %accuracy_score(y,nb_clf.predict(X_scaled)))"
   ]
  },
  {
   "cell_type": "markdown",
   "metadata": {},
   "source": [
    "### Fine-tuning: 양분점을 조정"
   ]
  },
  {
   "cell_type": "code",
   "execution_count": 76,
   "metadata": {},
   "outputs": [],
   "source": [
    "def find_optimal_threshold(columns, threshold):\n",
    "    output = []\n",
    "    for idx,col1 in enumerate(columns):\n",
    "        x1 = X[col1].values.reshape(-1,1)\n",
    "        for col2 in columns[idx+1:]:\n",
    "            x2 = X[col2].values.reshape(-1,1)\n",
    "            info = float(mutual_info_regression(x1,x2))\n",
    "            if info > threshold:\n",
    "                output.append([col1,col2,info])\n",
    "    del_list = [i[0] for i in output]\n",
    "    X_independent = X.drop(del_list,axis = 1)\n",
    "    X_independent = scaler.fit_transform(X_independent)\n",
    "    nb_clf = GaussianNB()\n",
    "    nb_clf.fit(X_independent, y)\n",
    "    y_pred = nb_clf.predict(X_independent)\n",
    "    print('Accuracy for threshold {}: {} '.format(threshold,accuracy_score(y,y_pred)))\n",
    "    return None"
   ]
  },
  {
   "cell_type": "code",
   "execution_count": 77,
   "metadata": {},
   "outputs": [],
   "source": [
    "#0-5 구간에서 확인; step = 0.5\n",
    "temp_list = np.arange(0,5,0.5)"
   ]
  },
  {
   "cell_type": "code",
   "execution_count": 78,
   "metadata": {},
   "outputs": [
    {
     "name": "stdout",
     "output_type": "stream",
     "text": [
      "Accuracy for threshold 0.0: 0.7201241593378168 \n",
      "Accuracy for threshold 0.5: 0.9244697361614072 \n",
      "Accuracy for threshold 1.0: 0.8851526125193999 \n",
      "Accuracy for threshold 1.5: 0.8882565959648215 \n",
      "Accuracy for threshold 2.0: 0.8903259182617693 \n",
      "Accuracy for threshold 2.5: 0.8903259182617693 \n",
      "Accuracy for threshold 3.0: 0.8913605794102432 \n",
      "Accuracy for threshold 3.5: 0.8913605794102432 \n",
      "Accuracy for threshold 4.0: 0.8913605794102432 \n",
      "Accuracy for threshold 4.5: 0.8913605794102432 \n"
     ]
    }
   ],
   "source": [
    "for thr in temp_list:\n",
    "    find_optimal_threshold(list(X.columns), thr)"
   ]
  },
  {
   "cell_type": "code",
   "execution_count": 79,
   "metadata": {},
   "outputs": [
    {
     "name": "stdout",
     "output_type": "stream",
     "text": [
      "Accuracy for threshold 0.2: 0.752715985514744 \n",
      "Accuracy for threshold 0.30000000000000004: 0.9161924469736161 \n",
      "Accuracy for threshold 0.4000000000000001: 0.9187790998448008 \n",
      "Accuracy for threshold 0.5000000000000001: 0.9244697361614072 \n",
      "Accuracy for threshold 0.6000000000000001: 0.9063631660631143 \n",
      "Accuracy for threshold 0.7000000000000002: 0.9141231246766683 \n",
      "Accuracy for threshold 0.8000000000000003: 0.892912571132954 \n",
      "Accuracy for threshold 0.9000000000000001: 0.8851526125193999 \n"
     ]
    }
   ],
   "source": [
    "#0-2 구간에서 확인; step = 0.1\n",
    "temp_list = np.arange(0.2,1,0.1)\n",
    "for thr in temp_list:\n",
    "    find_optimal_threshold(list(X.columns), thr)"
   ]
  },
  {
   "cell_type": "markdown",
   "metadata": {},
   "source": [
    "### Five-fold validation"
   ]
  },
  {
   "cell_type": "code",
   "execution_count": 76,
   "metadata": {},
   "outputs": [
    {
     "name": "stdout",
     "output_type": "stream",
     "text": [
      "학습 accuacy = 0.90, 검증 accuacy = 0.90\n",
      "학습 accuacy = 0.91, 검증 accuacy = 0.94\n",
      "학습 accuacy = 0.90, 검증 accuacy = 0.87\n",
      "학습 accuacy = 0.92, 검증 accuacy = 0.92\n",
      "학습 accuacy = 0.92, 검증 accuacy = 0.92\n",
      "평균 train accuacy : 0.91\n",
      "평균 test accuacy : 0.91\n"
     ]
    }
   ],
   "source": [
    "fivefold(X_independent,y,nb_clf)"
   ]
  },
  {
   "cell_type": "markdown",
   "metadata": {},
   "source": [
    "# Logistic Regression"
   ]
  },
  {
   "cell_type": "code",
   "execution_count": 81,
   "metadata": {},
   "outputs": [],
   "source": [
    "from sklearn.linear_model import LogisticRegression"
   ]
  },
  {
   "cell_type": "code",
   "execution_count": 82,
   "metadata": {},
   "outputs": [
    {
     "data": {
      "text/plain": [
       "LogisticRegression(C=1.0, class_weight=None, dual=False, fit_intercept=True,\n",
       "          intercept_scaling=1, max_iter=100, multi_class='warn',\n",
       "          n_jobs=None, penalty='l2', random_state=None, solver='warn',\n",
       "          tol=0.0001, verbose=0, warm_start=False)"
      ]
     },
     "execution_count": 82,
     "metadata": {},
     "output_type": "execute_result"
    }
   ],
   "source": [
    "clf_lr = LogisticRegression()\n",
    "clf_lr.fit(X, y)"
   ]
  },
  {
   "cell_type": "markdown",
   "metadata": {},
   "source": [
    "#### 초기 모델 : 모든 데이터 사용"
   ]
  },
  {
   "cell_type": "code",
   "execution_count": 83,
   "metadata": {},
   "outputs": [
    {
     "data": {
      "text/plain": [
       "0.966890843248836"
      ]
     },
     "execution_count": 83,
     "metadata": {},
     "output_type": "execute_result"
    }
   ],
   "source": [
    "y_pred = clf_lr.predict(X)\n",
    "accuracy_score(y,y_pred)"
   ]
  },
  {
   "cell_type": "markdown",
   "metadata": {},
   "source": [
    "#### Scaled 데이터 사용"
   ]
  },
  {
   "cell_type": "code",
   "execution_count": 84,
   "metadata": {},
   "outputs": [],
   "source": [
    "from sklearn.preprocessing import StandardScaler"
   ]
  },
  {
   "cell_type": "code",
   "execution_count": 85,
   "metadata": {},
   "outputs": [],
   "source": [
    "scaler = StandardScaler()"
   ]
  },
  {
   "cell_type": "code",
   "execution_count": 86,
   "metadata": {},
   "outputs": [
    {
     "data": {
      "text/plain": [
       "0.5090532850491464"
      ]
     },
     "execution_count": 86,
     "metadata": {},
     "output_type": "execute_result"
    }
   ],
   "source": [
    "y_pred = clf_lr.predict(scaler.fit_transform(X))\n",
    "accuracy_score(y,y_pred)"
   ]
  },
  {
   "cell_type": "markdown",
   "metadata": {},
   "source": [
    "#### PCA 데이터"
   ]
  },
  {
   "cell_type": "code",
   "execution_count": 83,
   "metadata": {},
   "outputs": [
    {
     "data": {
      "text/plain": [
       "0.8070356958096223"
      ]
     },
     "execution_count": 83,
     "metadata": {},
     "output_type": "execute_result"
    }
   ],
   "source": [
    "clf_lr.fit(X_pca, y)\n",
    "y_pred = clf_lr.predict(X_pca)\n",
    "accuracy_score(y,y_pred)"
   ]
  },
  {
   "cell_type": "markdown",
   "metadata": {},
   "source": [
    "#### PCA-scaled 데이터 "
   ]
  },
  {
   "cell_type": "code",
   "execution_count": 84,
   "metadata": {},
   "outputs": [
    {
     "data": {
      "text/plain": [
       "0.8028970512157269"
      ]
     },
     "execution_count": 84,
     "metadata": {},
     "output_type": "execute_result"
    }
   ],
   "source": [
    "clf_lr.fit(X_scaled, y)\n",
    "y_pred = clf_lr.predict(X_scaled)\n",
    "accuracy_score(y,y_pred)"
   ]
  },
  {
   "cell_type": "markdown",
   "metadata": {},
   "source": [
    "#### (Approximately) independent 데이터 사용"
   ]
  },
  {
   "cell_type": "code",
   "execution_count": 85,
   "metadata": {},
   "outputs": [
    {
     "data": {
      "text/plain": [
       "0.7837558199689602"
      ]
     },
     "execution_count": 85,
     "metadata": {},
     "output_type": "execute_result"
    }
   ],
   "source": [
    "clf_lr.fit(X_independent, y)\n",
    "y_pred = clf_lr.predict(X_independent)\n",
    "accuracy_score(y,y_pred)"
   ]
  },
  {
   "cell_type": "markdown",
   "metadata": {},
   "source": [
    "### Five-fold validation"
   ]
  },
  {
   "cell_type": "code",
   "execution_count": 86,
   "metadata": {
    "scrolled": true
   },
   "outputs": [
    {
     "name": "stdout",
     "output_type": "stream",
     "text": [
      "학습 accuacy = 0.96, 검증 accuacy = 0.98\n",
      "학습 accuacy = 0.97, 검증 accuacy = 0.96\n",
      "학습 accuacy = 0.97, 검증 accuacy = 0.95\n",
      "학습 accuacy = 0.97, 검증 accuacy = 0.97\n",
      "학습 accuacy = 0.97, 검증 accuacy = 0.97\n",
      "평균 train accuacy : 0.97\n",
      "평균 test accuacy : 0.97\n"
     ]
    }
   ],
   "source": [
    "fivefold(X,y,clf_lr)"
   ]
  },
  {
   "cell_type": "markdown",
   "metadata": {},
   "source": [
    "# 결론:\n",
    " - 성능은 SVM, KNN, Logistic Regression 모두 유사하고 Navie Baysian Model (NB) 이 뒤를 따른다. \n",
    " - SVM 과 KNN 은 추가적인 전처리 없이 PCA 처리된 데이터로도 최고 성능을 보였지만 Logistic Regression 와 NB 는 PCA 데이터로는 성능이 저하됐습니다. "
   ]
  },
  {
   "cell_type": "markdown",
   "metadata": {},
   "source": [
    "# 실험 : \n",
    " - 파생변수로 SVM 모델이 예측하는 label 을 추가하면 Linear Regression 성능이 나아지는가?"
   ]
  },
  {
   "cell_type": "code",
   "execution_count": 91,
   "metadata": {},
   "outputs": [],
   "source": [
    "svm_clf.fit(X_pca,y)\n",
    "y_pred = svm_clf.predict(X_pca)"
   ]
  },
  {
   "cell_type": "code",
   "execution_count": 93,
   "metadata": {},
   "outputs": [],
   "source": [
    "label = pd.DataFrame(data=y_pred, columns=['label'])"
   ]
  },
  {
   "cell_type": "code",
   "execution_count": 103,
   "metadata": {},
   "outputs": [],
   "source": [
    "X_exp = pd.concat([X,label], axis = 1)"
   ]
  },
  {
   "cell_type": "code",
   "execution_count": 96,
   "metadata": {},
   "outputs": [],
   "source": [
    "y = df['Hammer_price']"
   ]
  },
  {
   "cell_type": "markdown",
   "metadata": {},
   "source": [
    "### Initial Model"
   ]
  },
  {
   "cell_type": "code",
   "execution_count": 97,
   "metadata": {},
   "outputs": [
    {
     "data": {
      "text/plain": [
       "0.990827010326752"
      ]
     },
     "execution_count": 97,
     "metadata": {},
     "output_type": "execute_result"
    }
   ],
   "source": [
    "from sklearn.linear_model import LinearRegression\n",
    "model = LinearRegression().fit(X,y)\n",
    "model.score(X,y)"
   ]
  },
  {
   "cell_type": "code",
   "execution_count": 98,
   "metadata": {},
   "outputs": [],
   "source": [
    "from sklearn.model_selection import cross_validate as CV\n",
    "\n",
    "#Ten-fold validation , score metric = negative mean squared error \n",
    "score = CV(model,X, y, cv=10, scoring='neg_mean_squared_error')"
   ]
  },
  {
   "cell_type": "code",
   "execution_count": 99,
   "metadata": {},
   "outputs": [],
   "source": [
    "rmse = (score['test_score'] * -1) **(1/2)"
   ]
  },
  {
   "cell_type": "code",
   "execution_count": 100,
   "metadata": {},
   "outputs": [
    {
     "data": {
      "text/plain": [
       "67024844.62140924"
      ]
     },
     "execution_count": 100,
     "metadata": {},
     "output_type": "execute_result"
    }
   ],
   "source": [
    "rmse.mean()"
   ]
  },
  {
   "cell_type": "markdown",
   "metadata": {},
   "source": [
    "### 파생변수 추가 "
   ]
  },
  {
   "cell_type": "code",
   "execution_count": 107,
   "metadata": {},
   "outputs": [
    {
     "data": {
      "text/plain": [
       "66044788.68581228"
      ]
     },
     "execution_count": 107,
     "metadata": {},
     "output_type": "execute_result"
    }
   ],
   "source": [
    "#파생변수 추가\n",
    "model = LinearRegression().fit(X_exp,y)\n",
    "\n",
    "#Ten-fold validation , score metric = negative mean squared error \n",
    "score = CV(model,X_exp, y, cv=10, scoring='neg_mean_squared_error')\n",
    "rmse = (score['test_score'] * -1) **(1/2)\n",
    "rmse.mean()"
   ]
  }
 ],
 "metadata": {
  "kernelspec": {
   "display_name": "Python 3",
   "language": "python",
   "name": "python3"
  },
  "language_info": {
   "codemirror_mode": {
    "name": "ipython",
    "version": 3
   },
   "file_extension": ".py",
   "mimetype": "text/x-python",
   "name": "python",
   "nbconvert_exporter": "python",
   "pygments_lexer": "ipython3",
   "version": "3.7.2"
  }
 },
 "nbformat": 4,
 "nbformat_minor": 2
}
