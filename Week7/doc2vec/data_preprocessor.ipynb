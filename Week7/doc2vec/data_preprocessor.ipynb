{
 "cells": [
  {
   "cell_type": "code",
   "execution_count": 101,
   "metadata": {},
   "outputs": [],
   "source": [
    "file_list = ['dm','scm','polytope','imlab']\n",
    "corpus = []\n",
    "for file in file_list:\n",
    "    with open(file+'.txt','r',encoding='utf8') as file:\n",
    "        output = file.readlines()\n",
    "    corpus.append(output)"
   ]
  },
  {
   "cell_type": "markdown",
   "metadata": {},
   "source": [
    "## Load Data"
   ]
  },
  {
   "cell_type": "code",
   "execution_count": 99,
   "metadata": {},
   "outputs": [],
   "source": [
    "import pickle\n",
    "with open('corpus.pkl','rb') as file:\n",
    "    corpus = pickle.load(file)"
   ]
  },
  {
   "cell_type": "markdown",
   "metadata": {},
   "source": [
    "## Save Data"
   ]
  },
  {
   "cell_type": "code",
   "execution_count": 104,
   "metadata": {},
   "outputs": [],
   "source": [
    "output = corpus\n",
    "import pickle\n",
    "with open('corpus.pkl','wb') as file:\n",
    "    pickle.dump(corpus,file)"
   ]
  },
  {
   "cell_type": "markdown",
   "metadata": {},
   "source": [
    "## Preprocessing : regex 를 이용하여 제목만 수정"
   ]
  },
  {
   "cell_type": "code",
   "execution_count": 75,
   "metadata": {},
   "outputs": [],
   "source": [
    "import re"
   ]
  },
  {
   "cell_type": "code",
   "execution_count": 106,
   "metadata": {},
   "outputs": [],
   "source": [
    "corpus = [] \n",
    "for idx, doc in enumerate(output):\n",
    "    temp = []\n",
    "    if idx == 3:\n",
    "        for sen in doc:\n",
    "            temp.append(re.findall(r'] (.+)\\n',sen))\n",
    "        temp = [i[0] for i in temp if len(i)>0]\n",
    "        corpus.append(temp)\n",
    "        break\n",
    "\n",
    "    for sen in doc:\n",
    "        temp.append(re.findall(r'\"(.+)\"',sen))\n",
    "    temp= [i[0] for i in temp if len(i)>0]\n",
    "    corpus.append(temp)\n",
    "    \n"
   ]
  },
  {
   "cell_type": "markdown",
   "metadata": {},
   "source": [
    "## Searching in scholar and crawling"
   ]
  },
  {
   "cell_type": "code",
   "execution_count": 87,
   "metadata": {},
   "outputs": [],
   "source": [
    "import selenium\n",
    "from selenium.webdriver import Chrome\n",
    "browser=Chrome()"
   ]
  },
  {
   "cell_type": "code",
   "execution_count": 93,
   "metadata": {},
   "outputs": [],
   "source": [
    "import time \n",
    "from random import randint\n",
    "\n",
    "def crawl_scholar(title_list = corpus, min_sleeping_time = 1):\n",
    "    output = [] \n",
    "    try:\n",
    "        for idx1, lab in enumerate(title_list):\n",
    "            browser.get('https://scholar.google.co.kr/')\n",
    "            each_lab = []\n",
    "            for idx2, title in enumerate(lab):\n",
    "                \n",
    "                time.sleep(randint(min_sleeping_time, min_sleeping_time+3))\n",
    "                search = browser.find_element_by_css_selector('#gs_hdr_tsi')\n",
    "                search.clear()\n",
    "                search.send_keys(title)\n",
    "                #time.sleep(3)\n",
    "                search_button = browser.find_element_by_css_selector('#gs_hdr_tsb > span')\n",
    "                search_button.click()\n",
    "                #time.sleep(3)\n",
    "                try :\n",
    "                    abstract_table = browser.find_element_by_class_name('gs_rs')\n",
    "                    abstract = abstract_table.text\n",
    "                except:\n",
    "                    print(\"Error at lab {} title # {}: {}\".format(idx1, idx2, e))\n",
    "                    abstract = ''\n",
    "                each_lab.append(abstract)\n",
    "            output.append(each_lab)\n",
    "    except :\n",
    "        print(\"Error at lab {} title # {}: {}\".format(idx1, idx2, e))\n",
    "        return each_lab, output\n",
    "    return each_lab, output \n",
    "                \n",
    "                        \n",
    "    "
   ]
  },
  {
   "cell_type": "code",
   "execution_count": 50,
   "metadata": {},
   "outputs": [
    {
     "data": {
      "text/plain": [
       "['The Effect of Naive Reinforcement Learning in the Stock Market',\n",
       " 'Product failure prediction with missing data',\n",
       " 'Stock Price Prediction Through Sentiment Analysis of Corporate Disclosures Using Distributed Representation',\n",
       " 'Applying convolution filter to matrix of word-clustering based document representation',\n",
       " 'Knowledge Extraction and Visualization of Digital Design Process',\n",
       " 'De-noising documents with a novelty detection method utilizing class vectors in customer-voice classification',\n",
       " 'Smartphone user segmentation based on app usage sequence with deep neural networks',\n",
       " 'Building Industry Network Based on Business Text: Corporate Disclosures and News',\n",
       " 'Machine learning-based anomaly detection via integration of manufacturing, inspection and after-sales service data',\n",
       " 'Bag-of-Concepts: Comprehending Document Representation through Clustering Words in Distributed Representation',\n",
       " 'Reliable prediction of anti-diabetic drug failure with a reject option',\n",
       " 'Mining the relationship between production and customer service data for failure analysis of industrial products',\n",
       " 'Virtual Metrology for Copper-Clad Laminate Manufacturing',\n",
       " 'Obtaining calibrated probability by ROC Binning',\n",
       " 'Box-office forecasting based on sentiments of movie reviews and independent subspace method',\n",
       " 'Efficient Feature Selection based on Random Forward Search for Virtual Metrology Modeling',\n",
       " 'Detecting financial misstatements with fraud intention using multi-class cost-sensitive learning',\n",
       " 'Semi-supervised support vector regression based on self-training with label uncertainty: An application to virtual metrology in semiconductor manufacturing',\n",
       " 'Energy-saving decision making framework for HVAC with usage logs',\n",
       " 'A Study on the Man-hour Prediction System for Shipbuilding',\n",
       " 'Optimal construction of one-against-one classifier based on meta-learning',\n",
       " 'Using wafer map features to better predict die-level failures in final test',\n",
       " 'Estimating the minority class proportion with the ROC curve using Military Personality Inventory data of the ROK Armed Forces',\n",
       " 'Multi-class classification via heterogeneous ensemble of one-class classifiers',\n",
       " 'A novel multi-class classification algorithm based on one-class support vector machine',\n",
       " 'Keystroke dynamics-based user authentication using long and free text strings from various input devices',\n",
       " 'An efficient and effective ensemble of support vector machines for anti-diabetic drug failure prediction',\n",
       " 'Memory die clustering and matching for optimal voltage window in semiconductor',\n",
       " '추천 시스템 기법 연구동향 분석',\n",
       " 'Selecting an Optimal Set of Keywords for Search Engine Advertising',\n",
       " 'Improvement of virtual metrology performance by removing metrology noises in a training dataset',\n",
       " 'Constructing a multi-class classifier using one-against-one approach with different binary classifiers',\n",
       " 'KR-WordRank: A Korean word extraction method based on WordRank and unsupervised learning',\n",
       " 'Evaluating the reliability level of virtual metrology results for flexible process control: A novelty detection-based approach',\n",
       " 'Approximating support vector machine with artificial neural network for fast prediction',\n",
       " 'Probabilistic local reconstruction for k-NN regression and its application to virtual metrology in semiconductor manufacturing',\n",
       " 'Data based segmentation and summarization for sensor data in semiconductor manufacturing',\n",
       " 'Knowledge discovery in inspection reports of marine structures',\n",
       " 'Fast Parameterless Ballistic Launch Point Estimation based on k-NN Search',\n",
       " 'Multivariate Control Charts Based on Hybrid Novelty Scores',\n",
       " 'Stratified Sampling Design Based on Data Mining',\n",
       " 'Organizational tenure diversity as predictors of combat performance in ROK army',\n",
       " 'Mining transportation logs for understanding the after-assembly block manufacturing process in the shipbuilding industry',\n",
       " 'Pattern selection for support vector regression based response modeling',\n",
       " 'Support Vector Class Description (SVCD): Classification in Kernel Space',\n",
       " 'Improved response modeling based on Clustering, Under-sampling, and Ensemble',\n",
       " 'Machine learning-based novelty detection for faulty wafer detection in semiconductor manufacturing',\n",
       " 'Virtual metrology for run-to-run control in semiconductor manufacturing',\n",
       " 'Semi-Supervised Response Modeling',\n",
       " 'Account Sharing Detection through Keystroke Dynamics Analysis',\n",
       " 'A virtual metrology system for semiconductor manufacturing',\n",
       " 'A hybrid novelty score and its use in keystroke dynamics-based user authentication',\n",
       " 'Improving authentication accuracy using artificial rhythms and cues for keystroke dynamics-based authentication',\n",
       " 'Keystroke dynamics-based authentication for mobile devices',\n",
       " 'Locally linear reconstruction for instance-based learning',\n",
       " 'Improvement of keystroke data quality through artificial rhythms and cues',\n",
       " 'Bootstrap based pattern selection for support vector regression',\n",
       " 'Supporting diagnosis of attention-deficit hyperactive disorder with novelty detection',\n",
       " 'Response modeling with support vector regression',\n",
       " 'Clustering-based reference set reduction for k-nearest neighbor',\n",
       " 'Continual retraining of keystroke dynamics based authenticator',\n",
       " 'Retraining a keystroke dynamics-based authenticator with impostor patterns',\n",
       " 'Focusing on non-respondents: Response modeling with novelty detectors',\n",
       " 'Neighborhood property based pattern selection for support vector machines',\n",
       " 'The novelty detection approach for different degrees of class imbalance',\n",
       " 'EUS SVMs: ensemble of under-sampled SVMs for data imbalance problems',\n",
       " 'e-tube Based Pattern Selection for Support Vector Machines',\n",
       " 'Improving Authentication Accuracy of Unfamiliar Passwords with Pauses and Cues for Keystroke Dynamics Based Authentication',\n",
       " 'The Effectiveness of Artificial Rhythms and Cues in Keystroke Dynamics based User Authentication',\n",
       " 'Application of LVQ to Novelty Detection Using Outliers in Training Data ',\n",
       " 'Ensemble based on GA Wrapper Feature Selection',\n",
       " 'Response Modeling with Suppport Vector Machines',\n",
       " 'Constructing Response Model using Ensemble based on Feature Subset Selection',\n",
       " 'Data Mining Problems and Solutions for Response Modeling in CRM',\n",
       " 'GA SVM Wrapper Ensemble for Keystroke Dynamics Authentication',\n",
       " 'Classification of Bluffing Behavior and Affective Attitude from Prefrontal Surface Encephalogram during On-line Game',\n",
       " 'Retraining a Novelty Detector with Impostor Patterns for Keystroke Dynamics Based Authentication',\n",
       " 'Artificial Rhythms and Cues for Keystroke Dynamics Based Authentication',\n",
       " 'SOM-based Novelty Detection using Novel Data',\n",
       " 'Invariance of Neighborhood Relation under Input Space to Feature Space Mapping',\n",
       " 'Response Models Based on Bagging Neural Networks',\n",
       " 'Combining Gaussian Mixture Models',\n",
       " 'Keystroke Dynamics Identity Verification - its problems and practical solutions',\n",
       " 'Fast Pattern Selection Algorithm for Support Vector Classifiers: Time Complexity Analysis',\n",
       " 'Novelty Detection Approach for Keystroke Dynamics Identity Verification',\n",
       " 'Fast Pattern Selection for Support Vector Classifiers',\n",
       " 'A Study on Rainfall-Runoff Models for Improving Ensemble Streamflow Prediction: 1. Rainfall-runoff Models Using Artificial Neural Networks',\n",
       " 'An Up-trend Detection using an Auto-Associative Neural Network: KOSPI200 Futures',\n",
       " 'Pattern Selection for Support Vector Classifiers',\n",
       " 'Observational Learning Algorithm for an Ensemble of Neural Networks',\n",
       " 'Smoothed Bagging with Kernel Bandwidth Selectors',\n",
       " 'Observational Learning with Modular Networks',\n",
       " 'Left-shoulder Detection in Korea Composite Stock Price Index using an Auto-Associative Neural Network',\n",
       " 'Web based Keystroke Dynamics Identity Verification using Neural Network',\n",
       " 'Multiple permeability predictions using observational learning algorithm',\n",
       " 'Constructing Belief Networks from Realistic Data',\n",
       " 'A Neural Network Method for Diagnosing Beam Position Monitors in Storage Ring',\n",
       " 'Belt Speed Control in Sintering Plant using Neural Networks',\n",
       " 'Spatial Interpolation using Artificial Neural Network',\n",
       " 'Reliable Roll Force Prediction in Cold Mill using Multiple Neural Networks',\n",
       " 'Virtual Sample Generation using a Population of Networks',\n",
       " 'Does Rotation of Neuronal Population Vectors Equal Mental Rotation?',\n",
       " 'Hybrid Neural-Network/Mathematical Prediction Model for Tandem Cold Mill',\n",
       " 'Design Guidelines for Character Rejection and Substitution for Off-line Document Processing Systems',\n",
       " 'Effects of varying parameters on properties of self-organizing maps',\n",
       " 'Map Formation in Proprioceptive Cortex',\n",
       " 'Multiple Disorder Diagnosis with Adaptive Competitive Neural Networks',\n",
       " 'Learning Competition and Cooperation',\n",
       " \"Improvement of Kittler and Illingworth's Minimum Error Thresholding\"]"
      ]
     },
     "execution_count": 50,
     "metadata": {},
     "output_type": "execute_result"
    }
   ],
   "source": [
    "corpus[0]"
   ]
  },
  {
   "cell_type": "markdown",
   "metadata": {},
   "source": [
    "## Save data"
   ]
  },
  {
   "cell_type": "code",
   "execution_count": 96,
   "metadata": {},
   "outputs": [],
   "source": [
    "import pickle\n",
    "def save_pkl(df,path):\n",
    "    with open(path,'wb') as file:\n",
    "        pickle.dump(df,file)\n"
   ]
  },
  {
   "cell_type": "code",
   "execution_count": 97,
   "metadata": {},
   "outputs": [],
   "source": [
    "save_pkl(output,'dm_abstract.pkl')"
   ]
  }
 ],
 "metadata": {
  "kernelspec": {
   "display_name": "Python 3",
   "language": "python",
   "name": "python3"
  },
  "language_info": {
   "codemirror_mode": {
    "name": "ipython",
    "version": 3
   },
   "file_extension": ".py",
   "mimetype": "text/x-python",
   "name": "python",
   "nbconvert_exporter": "python",
   "pygments_lexer": "ipython3",
   "version": "3.7.1"
  }
 },
 "nbformat": 4,
 "nbformat_minor": 2
}
