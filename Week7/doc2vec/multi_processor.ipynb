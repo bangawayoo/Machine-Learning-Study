{
 "cells": [
  {
   "cell_type": "code",
   "execution_count": 8,
   "metadata": {},
   "outputs": [],
   "source": [
    "import multiprocessing\n",
    "import time\n",
    "import tqdm\n",
    "from crawler import crawl_scholar"
   ]
  },
  {
   "cell_type": "code",
   "execution_count": 9,
   "metadata": {},
   "outputs": [],
   "source": [
    "import pickle\n",
    "with open('corpus.pkl','rb') as file:\n",
    "    corpus = pickle.load(file)"
   ]
  },
  {
   "cell_type": "code",
   "execution_count": 10,
   "metadata": {},
   "outputs": [
    {
     "data": {
      "text/plain": [
       "['The Effect of Naive Reinforcement Learning in the Stock Market\\n',\n",
       " 'Product failure prediction with missing data\\n',\n",
       " 'Stock Price Prediction Through Sentiment Analysis of Corporate Disclosures Using Distributed Representation\\n',\n",
       " 'Applying convolution filter to matrix of word-clustering based document representation\\n',\n",
       " 'Knowledge Extraction and Visualization of Digital Design Process\\n',\n",
       " 'De-noising documents with a novelty detection method utilizing class vectors in customer-voice classification\\n',\n",
       " 'Smartphone user segmentation based on app usage sequence with deep neural networks\\n',\n",
       " 'Building Industry Network Based on Business Text: Corporate Disclosures and News\\n',\n",
       " 'Machine learning-based anomaly detection via integration of manufacturing, inspection and after-sales service data\\n',\n",
       " 'Bag-of-Concepts: Comprehending Document Representation through Clustering Words in Distributed Representation\\n',\n",
       " 'Reliable prediction of anti-diabetic drug failure with a reject option\\n',\n",
       " 'Mining the relationship between production and customer service data for failure analysis of industrial products\\n',\n",
       " 'Virtual Metrology for Copper-Clad Laminate Manufacturing\\n',\n",
       " 'Obtaining calibrated probability by ROC Binning\\n',\n",
       " 'Box-office forecasting based on sentiments of movie reviews and independent subspace method\\n',\n",
       " 'Efficient Feature Selection based on Random Forward Search for Virtual Metrology Modeling\\n',\n",
       " 'Detecting financial misstatements with fraud intention using multi-class cost-sensitive learning\\n',\n",
       " 'Semi-supervised support vector regression based on self-training with label uncertainty: An application to virtual metrology in semiconductor manufacturing\\n',\n",
       " 'Energy-saving decision making framework for HVAC with usage logs\\n',\n",
       " 'A Study on the Man-hour Prediction System for Shipbuilding\\n',\n",
       " 'Optimal construction of one-against-one classifier based on meta-learning\\n',\n",
       " 'Using wafer map features to better predict die-level failures in final test\\n',\n",
       " 'Estimating the minority class proportion with the ROC curve using Military Personality Inventory data of the ROK Armed Forces\\n',\n",
       " 'Multi-class classification via heterogeneous ensemble of one-class classifiers\\n',\n",
       " 'A novel multi-class classification algorithm based on one-class support vector machine\\n',\n",
       " 'Keystroke dynamics-based user authentication using long and free text strings from various input devices\\n',\n",
       " 'An efficient and effective ensemble of support vector machines for anti-diabetic drug failure prediction\\n',\n",
       " 'Memory die clustering and matching for optimal voltage window in semiconductor\\n',\n",
       " '추천 시스템 기법 연구동향 분석\\n',\n",
       " 'Selecting an Optimal Set of Keywords for Search Engine Advertising\\n',\n",
       " 'Improvement of virtual metrology performance by removing metrology noises in a training dataset\\n',\n",
       " 'Constructing a multi-class classifier using one-against-one approach with different binary classifiers\\n',\n",
       " 'KR-WordRank: A Korean word extraction method based on WordRank and unsupervised learning\\n',\n",
       " 'Evaluating the reliability level of virtual metrology results for flexible process control: A novelty detection-based approach\\n',\n",
       " 'Approximating support vector machine with artificial neural network for fast prediction\\n',\n",
       " 'Probabilistic local reconstruction for k-NN regression and its application to virtual metrology in semiconductor manufacturing\\n',\n",
       " 'Data based segmentation and summarization for sensor data in semiconductor manufacturing\\n',\n",
       " 'Knowledge discovery in inspection reports of marine structures\\n',\n",
       " 'Fast Parameterless Ballistic Launch Point Estimation based on k-NN Search\\n',\n",
       " 'Multivariate Control Charts Based on Hybrid Novelty Scores\\n',\n",
       " 'Stratified Sampling Design Based on Data Mining\\n',\n",
       " 'Organizational tenure diversity as predictors of combat performance in ROK army\\n',\n",
       " 'Mining transportation logs for understanding the after-assembly block manufacturing process in the shipbuilding industry\\n',\n",
       " 'Pattern selection for support vector regression based response modeling\\n',\n",
       " 'Support Vector Class Description (SVCD): Classification in Kernel Space\\n',\n",
       " 'Improved response modeling based on Clustering, Under-sampling, and Ensemble\\n',\n",
       " 'Machine learning-based novelty detection for faulty wafer detection in semiconductor manufacturing\\n',\n",
       " 'Virtual metrology for run-to-run control in semiconductor manufacturing\\n',\n",
       " 'Semi-Supervised Response Modeling\\n',\n",
       " 'Account Sharing Detection through Keystroke Dynamics Analysis\\n',\n",
       " 'A virtual metrology system for semiconductor manufacturing\\n',\n",
       " 'A hybrid novelty score and its use in keystroke dynamics-based user authentication\\n',\n",
       " 'Improving authentication accuracy using artificial rhythms and cues for keystroke dynamics-based authentication\\n',\n",
       " 'Keystroke dynamics-based authentication for mobile devices\\n',\n",
       " 'Locally linear reconstruction for instance-based learning\\n',\n",
       " 'Improvement of keystroke data quality through artificial rhythms and cues\\n',\n",
       " 'Bootstrap based pattern selection for support vector regression\\n',\n",
       " 'Supporting diagnosis of attention-deficit hyperactive disorder with novelty detection\\n',\n",
       " 'Response modeling with support vector regression\\n',\n",
       " 'Clustering-based reference set reduction for k-nearest neighbor\\n',\n",
       " 'Continual retraining of keystroke dynamics based authenticator\\n',\n",
       " 'Retraining a keystroke dynamics-based authenticator with impostor patterns\\n',\n",
       " 'Focusing on non-respondents: Response modeling with novelty detectors\\n',\n",
       " 'Neighborhood property based pattern selection for support vector machines\\n',\n",
       " 'The novelty detection approach for different degrees of class imbalance\\n',\n",
       " 'EUS SVMs: ensemble of under-sampled SVMs for data imbalance problems\\n',\n",
       " 'e-tube Based Pattern Selection for Support Vector Machines\\n',\n",
       " 'Improving Authentication Accuracy of Unfamiliar Passwords with Pauses and Cues for Keystroke Dynamics Based Authentication\\n',\n",
       " 'The Effectiveness of Artificial Rhythms and Cues in Keystroke Dynamics based User Authentication\\n',\n",
       " 'Application of LVQ to Novelty Detection Using Outliers in Training Data \\n',\n",
       " 'Ensemble based on GA Wrapper Feature Selection\\n',\n",
       " 'Response Modeling with Suppport Vector Machines\\n',\n",
       " 'Constructing Response Model using Ensemble based on Feature Subset Selection\\n',\n",
       " 'Data Mining Problems and Solutions for Response Modeling in CRM\\n',\n",
       " 'GA SVM Wrapper Ensemble for Keystroke Dynamics Authentication\\n',\n",
       " 'Classification of Bluffing Behavior and Affective Attitude from Prefrontal Surface Encephalogram during On-line Game\\n',\n",
       " 'Retraining a Novelty Detector with Impostor Patterns for Keystroke Dynamics Based Authentication\\n',\n",
       " 'Artificial Rhythms and Cues for Keystroke Dynamics Based Authentication\\n',\n",
       " 'SOM-based Novelty Detection using Novel Data\\n',\n",
       " 'Invariance of Neighborhood Relation under Input Space to Feature Space Mapping\\n',\n",
       " 'Response Models Based on Bagging Neural Networks\\n',\n",
       " 'Combining Gaussian Mixture Models\\n',\n",
       " 'Keystroke Dynamics Identity Verification - its problems and practical solutions\\n',\n",
       " 'Fast Pattern Selection Algorithm for Support Vector Classifiers: Time Complexity Analysis\\n',\n",
       " 'Novelty Detection Approach for Keystroke Dynamics Identity Verification\\n',\n",
       " 'Fast Pattern Selection for Support Vector Classifiers\\n',\n",
       " 'A Study on Rainfall-Runoff Models for Improving Ensemble Streamflow Prediction: 1. Rainfall-runoff Models Using Artificial Neural Networks\\n',\n",
       " 'An Up-trend Detection using an Auto-Associative Neural Network: KOSPI200 Futures\\n',\n",
       " 'Pattern Selection for Support Vector Classifiers\\n',\n",
       " 'Observational Learning Algorithm for an Ensemble of Neural Networks\\n',\n",
       " 'Smoothed Bagging with Kernel Bandwidth Selectors\\n',\n",
       " 'Observational Learning with Modular Networks\\n',\n",
       " 'Left-shoulder Detection in Korea Composite Stock Price Index using an Auto-Associative Neural Network\\n',\n",
       " 'Web based Keystroke Dynamics Identity Verification using Neural Network\\n',\n",
       " 'Multiple permeability predictions using observational learning algorithm\\n',\n",
       " 'Constructing Belief Networks from Realistic Data\\n',\n",
       " 'A Neural Network Method for Diagnosing Beam Position Monitors in Storage Ring\\n',\n",
       " 'Belt Speed Control in Sintering Plant using Neural Networks\\n',\n",
       " 'Spatial Interpolation using Artificial Neural Network\\n',\n",
       " 'Reliable Roll Force Prediction in Cold Mill using Multiple Neural Networks\\n',\n",
       " 'Virtual Sample Generation using a Population of Networks\\n',\n",
       " 'Does Rotation of Neuronal Population Vectors Equal Mental Rotation?\\n',\n",
       " 'Hybrid Neural-Network/Mathematical Prediction Model for Tandem Cold Mill\\n',\n",
       " 'Design Guidelines for Character Rejection and Substitution for Off-line Document Processing Systems\\n',\n",
       " 'Effects of varying parameters on properties of self-organizing maps\\n',\n",
       " 'Map Formation in Proprioceptive Cortex\\n',\n",
       " 'Multiple Disorder Diagnosis with Adaptive Competitive Neural Networks\\n',\n",
       " 'Learning Competition and Cooperation\\n',\n",
       " \"Improvement of Kittler and Illingworth's Minimum Error Thresholding\"]"
      ]
     },
     "execution_count": 10,
     "metadata": {},
     "output_type": "execute_result"
    }
   ],
   "source": [
    "corpus.pop(0)"
   ]
  },
  {
   "cell_type": "code",
   "execution_count": 13,
   "metadata": {},
   "outputs": [],
   "source": [
    "def main_(corpus):\n",
    "    start_time = time.time()\n",
    "    pool = multiprocessing.Pool(processes=4)\n",
    "    result = pool.map(crawl_scholar, corpus)\n",
    "    pool.close()\n",
    "    pool.join()\n",
    "    print(\"Time : %f\" % (time.time()-start_time))\n",
    "    return result\n"
   ]
  },
  {
   "cell_type": "code",
   "execution_count": 14,
   "metadata": {},
   "outputs": [
    {
     "name": "stdout",
     "output_type": "stream",
     "text": [
      "Time : 195.950637\n"
     ]
    }
   ],
   "source": [
    "output = main_(corpus)"
   ]
  },
  {
   "cell_type": "code",
   "execution_count": 20,
   "metadata": {},
   "outputs": [
    {
     "name": "stdout",
     "output_type": "stream",
     "text": [
      "number of abstract crawled for each lab:  46\n",
      "number of abstract crawled for each lab:  0\n",
      "number of abstract crawled for each lab:  47\n"
     ]
    }
   ],
   "source": [
    "for i in output:\n",
    "    print('number of abstract crawled for each lab: ', len(i))"
   ]
  },
  {
   "cell_type": "code",
   "execution_count": 21,
   "metadata": {},
   "outputs": [],
   "source": [
    "with open('abstract_temp.pkl','wb') as file:\n",
    "    pickle.dump(output,file)"
   ]
  }
 ],
 "metadata": {
  "kernelspec": {
   "display_name": "Python 3",
   "language": "python",
   "name": "python3"
  },
  "language_info": {
   "codemirror_mode": {
    "name": "ipython",
    "version": 3
   },
   "file_extension": ".py",
   "mimetype": "text/x-python",
   "name": "python",
   "nbconvert_exporter": "python",
   "pygments_lexer": "ipython3",
   "version": "3.7.1"
  }
 },
 "nbformat": 4,
 "nbformat_minor": 2
}
